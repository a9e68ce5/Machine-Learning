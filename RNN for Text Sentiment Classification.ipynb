{
  "cells": [
    {
      "cell_type": "markdown",
      "metadata": {
        "id": "view-in-github",
        "colab_type": "text"
      },
      "source": [
        "<a href=\"https://colab.research.google.com/github/a9e68ce5/Machine-Learning/blob/main/RNN%20for%20Text%20Sentiment%20Classification.ipynb\" target=\"_parent\"><img src=\"https://colab.research.google.com/assets/colab-badge.svg\" alt=\"Open In Colab\"/></a>"
      ]
    },
    {
      "cell_type": "markdown",
      "metadata": {
        "id": "YxuVdRvdBSFi"
      },
      "source": [
        "# HW4 RNN\n",
        "Task: Sentiment classification on Twitter comments.\n",
        "\n",
        "Goal of this homework:\n",
        "*   Get familiar with the recurrent neural network.\n",
        "*   Learn how to deal with text data\n",
        "\n",
        "TA: Chih-Kai, Yang (b08202033@ntu.edu.tw)\n",
        "\n"
      ]
    },
    {
      "cell_type": "markdown",
      "metadata": {
        "id": "DD__8ohVBhjx"
      },
      "source": [
        "# ***Import packages.***"
      ]
    },
    {
      "cell_type": "code",
      "execution_count": null,
      "metadata": {
        "id": "ybs7iymbWbER"
      },
      "outputs": [],
      "source": [
        "\n",
        "import os\n",
        "import csv\n",
        "import random\n",
        "import numpy as np\n",
        "import pandas as pd\n",
        "import torch.nn.functional as F\n",
        "import matplotlib.pyplot as plt\n",
        "import re\n",
        "\n",
        "from torch.nn.utils.rnn import pad_sequence\n",
        "from gensim.models import Word2Vec\n",
        "from sklearn.model_selection import train_test_split\n",
        "from torch import optim"
      ]
    },
    {
      "cell_type": "code",
      "execution_count": null,
      "metadata": {
        "id": "0_Ztpij02agV"
      },
      "outputs": [],
      "source": [
        "os.environ['CUDA_LAUNCH_BLOCKING'] = \"1\""
      ]
    },
    {
      "cell_type": "code",
      "execution_count": null,
      "metadata": {
        "id": "Y3zSW8IH2mNF"
      },
      "outputs": [],
      "source": [
        "import torch"
      ]
    },
    {
      "cell_type": "markdown",
      "metadata": {
        "id": "6FrO0GquBkN8"
      },
      "source": [
        "# ***Download the dataset and unzip it.***"
      ]
    },
    {
      "cell_type": "code",
      "execution_count": null,
      "metadata": {
        "colab": {
          "base_uri": "https://localhost:8080/"
        },
        "id": "1Ao4oHOdzd7H",
        "outputId": "99c3fd55-0e77-4230-bfeb-8de1f5d83a2a"
      },
      "outputs": [
        {
          "name": "stdout",
          "output_type": "stream",
          "text": [
            "--2022-11-27 02:01:15--  https://www.dropbox.com/s/0abp8vvib4j1gjw/HW4_dataset.zip\n",
            "Resolving www.dropbox.com (www.dropbox.com)... 162.125.80.18, 2620:100:6031:18::a27d:5112\n",
            "Connecting to www.dropbox.com (www.dropbox.com)|162.125.80.18|:443... connected.\n",
            "HTTP request sent, awaiting response... 302 Found\n",
            "Location: /s/raw/0abp8vvib4j1gjw/HW4_dataset.zip [following]\n",
            "--2022-11-27 02:01:16--  https://www.dropbox.com/s/raw/0abp8vvib4j1gjw/HW4_dataset.zip\n",
            "Reusing existing connection to www.dropbox.com:443.\n",
            "HTTP request sent, awaiting response... 302 Found\n",
            "Location: https://ucc88a5150f68f9fe35f990851d5.dl.dropboxusercontent.com/cd/0/inline/Bxh-w0aZNbvX-TbX3GZ-rqegdOydXOmgVeg6QkJwa-WS3yBBwAnCeVNuRI_5C9fm1K9nGPC1sCR39JOHv2RCB6G54WNspM0HIIR-iDeKfXfkt-PBlXvJ1Hlsl8M8I04p99tdZC6vb2Eg3L-fHWh5nEuvo62zVoBcK4T3gBNLtvvNKQ/file# [following]\n",
            "--2022-11-27 02:01:16--  https://ucc88a5150f68f9fe35f990851d5.dl.dropboxusercontent.com/cd/0/inline/Bxh-w0aZNbvX-TbX3GZ-rqegdOydXOmgVeg6QkJwa-WS3yBBwAnCeVNuRI_5C9fm1K9nGPC1sCR39JOHv2RCB6G54WNspM0HIIR-iDeKfXfkt-PBlXvJ1Hlsl8M8I04p99tdZC6vb2Eg3L-fHWh5nEuvo62zVoBcK4T3gBNLtvvNKQ/file\n",
            "Resolving ucc88a5150f68f9fe35f990851d5.dl.dropboxusercontent.com (ucc88a5150f68f9fe35f990851d5.dl.dropboxusercontent.com)... 162.125.81.15, 2620:100:6031:15::a27d:510f\n",
            "Connecting to ucc88a5150f68f9fe35f990851d5.dl.dropboxusercontent.com (ucc88a5150f68f9fe35f990851d5.dl.dropboxusercontent.com)|162.125.81.15|:443... connected.\n",
            "HTTP request sent, awaiting response... 302 Found\n",
            "Location: /cd/0/inline2/BxgYH_WjJG19TPnMr2D_pu_a-kcaEDqYEBYyot41fccnw8toqN6fACeV1NGKAacmUa0QzGAzSUsu4zFbjibLU8rjuAWWPy8SNd_Wimg_ZJmS8VGQSjAoh7WFepP2e4AvgQFjxIIczWwcgHY_RqJxvyLq1yrZZk3b0H4V4ZqZZjzfRuFctAxpEkyhLNmSZAz_1v1yyEvuSKzwbreZUebwoDD7vMaNYNUhhDYN5JHJDEzl-08qV21afxoEVkoTOWE6s3A-rXbwmLh4VDkS-srNDvWPqFLcQEVB_EKg1R-GFlLr25Y_POFGNQrHTVSP1z2MIPikdzYdW9Ds_jIVq7xEp6-RY1JNp-B6o7xS4ObU4dGORBWEOT9pW7oztyDggYPyGLNMWyyo2ntCwKcR987wY_AZDcwOXqNtb0Q-CnOLSTMW7A/file [following]\n",
            "--2022-11-27 02:01:17--  https://ucc88a5150f68f9fe35f990851d5.dl.dropboxusercontent.com/cd/0/inline2/BxgYH_WjJG19TPnMr2D_pu_a-kcaEDqYEBYyot41fccnw8toqN6fACeV1NGKAacmUa0QzGAzSUsu4zFbjibLU8rjuAWWPy8SNd_Wimg_ZJmS8VGQSjAoh7WFepP2e4AvgQFjxIIczWwcgHY_RqJxvyLq1yrZZk3b0H4V4ZqZZjzfRuFctAxpEkyhLNmSZAz_1v1yyEvuSKzwbreZUebwoDD7vMaNYNUhhDYN5JHJDEzl-08qV21afxoEVkoTOWE6s3A-rXbwmLh4VDkS-srNDvWPqFLcQEVB_EKg1R-GFlLr25Y_POFGNQrHTVSP1z2MIPikdzYdW9Ds_jIVq7xEp6-RY1JNp-B6o7xS4ObU4dGORBWEOT9pW7oztyDggYPyGLNMWyyo2ntCwKcR987wY_AZDcwOXqNtb0Q-CnOLSTMW7A/file\n",
            "Reusing existing connection to ucc88a5150f68f9fe35f990851d5.dl.dropboxusercontent.com:443.\n",
            "HTTP request sent, awaiting response... 200 OK\n",
            "Length: 32816331 (31M) [application/zip]\n",
            "Saving to: ‘HW4_dataset.zip’\n",
            "\n",
            "HW4_dataset.zip     100%[===================>]  31.30M  10.5MB/s    in 3.0s    \n",
            "\n",
            "2022-11-27 02:01:20 (10.5 MB/s) - ‘HW4_dataset.zip’ saved [32816331/32816331]\n",
            "\n"
          ]
        }
      ],
      "source": [
        "!wget https://www.dropbox.com/s/0abp8vvib4j1gjw/HW4_dataset.zip\n",
        "!mv HW4_dataset.zip DATASET.zip"
      ]
    },
    {
      "cell_type": "code",
      "execution_count": null,
      "metadata": {
        "id": "BRjym0iYOoPN"
      },
      "outputs": [],
      "source": [
        "#!gdown --id \"1cwPgbbAMNPZ9nCoyOW2WuavimYymCKKy\" --output DATASET.zip"
      ]
    },
    {
      "cell_type": "code",
      "execution_count": null,
      "metadata": {
        "id": "E31Jvl9X65YC",
        "colab": {
          "base_uri": "https://localhost:8080/"
        },
        "outputId": "ee03f26e-559d-462d-890e-78b3f5e4f3a4"
      },
      "outputs": [
        {
          "output_type": "stream",
          "name": "stdout",
          "text": [
            "/usr/local/lib/python3.7/dist-packages/gdown/cli.py:131: FutureWarning: Option `--id` was deprecated in version 4.3.1 and will be removed in 5.0. You don't need to pass it anymore to use a file ID.\n",
            "  category=FutureWarning,\n",
            "Downloading...\n",
            "From: https://drive.google.com/uc?id=1hW0UvoM7aU6KRSXLJlkFkDW80O1Fiopo\n",
            "To: /content/testQ51_2.csv\n",
            "100% 140/140 [00:00<00:00, 267kB/s]\n"
          ]
        }
      ],
      "source": []
    },
    {
      "cell_type": "code",
      "execution_count": null,
      "metadata": {
        "colab": {
          "base_uri": "https://localhost:8080/"
        },
        "id": "a9vdBfpImp-r",
        "outputId": "a3fbcdb0-a222-4793-bce8-27741dac0f1b"
      },
      "outputs": [
        {
          "name": "stdout",
          "output_type": "stream",
          "text": [
            "Package                       Version\n",
            "----------------------------- ----------------------\n",
            "absl-py                       1.3.0\n",
            "aeppl                         0.0.33\n",
            "aesara                        2.7.9\n",
            "aiohttp                       3.8.3\n",
            "aiosignal                     1.3.1\n",
            "alabaster                     0.7.12\n",
            "albumentations                1.2.1\n",
            "altair                        4.2.0\n",
            "appdirs                       1.4.4\n",
            "arviz                         0.12.1\n",
            "astor                         0.8.1\n",
            "astropy                       4.3.1\n",
            "astunparse                    1.6.3\n",
            "async-timeout                 4.0.2\n",
            "asynctest                     0.13.0\n",
            "atari-py                      0.2.9\n",
            "atomicwrites                  1.4.1\n",
            "attrs                         22.1.0\n",
            "audioread                     3.0.0\n",
            "autograd                      1.5\n",
            "Babel                         2.11.0\n",
            "backcall                      0.2.0\n",
            "beautifulsoup4                4.6.3\n",
            "bleach                        5.0.1\n",
            "blis                          0.7.9\n",
            "bokeh                         2.3.3\n",
            "branca                        0.6.0\n",
            "bs4                           0.0.1\n",
            "CacheControl                  0.12.11\n",
            "cached-property               1.5.2\n",
            "cachetools                    5.2.0\n",
            "catalogue                     2.0.8\n",
            "certifi                       2022.9.24\n",
            "cffi                          1.15.1\n",
            "cftime                        1.6.2\n",
            "chardet                       3.0.4\n",
            "charset-normalizer            2.1.1\n",
            "click                         7.1.2\n",
            "clikit                        0.6.2\n",
            "cloudpickle                   1.5.0\n",
            "cmake                         3.22.6\n",
            "cmdstanpy                     1.0.8\n",
            "colorcet                      3.0.1\n",
            "colorlover                    0.3.0\n",
            "community                     1.0.0b1\n",
            "confection                    0.0.3\n",
            "cons                          0.4.5\n",
            "contextlib2                   0.5.5\n",
            "convertdate                   2.4.0\n",
            "crashtest                     0.3.1\n",
            "crcmod                        1.7\n",
            "cufflinks                     0.17.3\n",
            "cupy-cuda11x                  11.0.0\n",
            "cvxopt                        1.3.0\n",
            "cvxpy                         1.2.2\n",
            "cycler                        0.11.0\n",
            "cymem                         2.0.7\n",
            "Cython                        0.29.32\n",
            "daft                          0.0.4\n",
            "dask                          2022.2.0\n",
            "datascience                   0.17.5\n",
            "db-dtypes                     1.0.4\n",
            "debugpy                       1.0.0\n",
            "decorator                     4.4.2\n",
            "defusedxml                    0.7.1\n",
            "descartes                     1.1.0\n",
            "dill                          0.3.6\n",
            "distributed                   2022.2.0\n",
            "dlib                          19.24.0\n",
            "dm-tree                       0.1.7\n",
            "dnspython                     2.2.1\n",
            "docutils                      0.17.1\n",
            "dopamine-rl                   1.0.5\n",
            "earthengine-api               0.1.332\n",
            "easydict                      1.10\n",
            "ecos                          2.0.10\n",
            "editdistance                  0.5.3\n",
            "en-core-web-sm                3.4.1\n",
            "entrypoints                   0.4\n",
            "ephem                         4.1.3\n",
            "et-xmlfile                    1.1.0\n",
            "etils                         0.9.0\n",
            "etuples                       0.3.8\n",
            "fa2                           0.3.5\n",
            "fastai                        2.7.10\n",
            "fastcore                      1.5.27\n",
            "fastdownload                  0.0.7\n",
            "fastdtw                       0.3.4\n",
            "fastjsonschema                2.16.2\n",
            "fastprogress                  1.0.3\n",
            "fastrlock                     0.8.1\n",
            "feather-format                0.4.1\n",
            "filelock                      3.8.0\n",
            "firebase-admin                5.3.0\n",
            "fix-yahoo-finance             0.0.22\n",
            "Flask                         1.1.4\n",
            "flatbuffers                   1.12\n",
            "folium                        0.12.1.post1\n",
            "frozenlist                    1.3.3\n",
            "fsspec                        2022.11.0\n",
            "future                        0.16.0\n",
            "gast                          0.4.0\n",
            "GDAL                          2.2.2\n",
            "gdown                         4.4.0\n",
            "gensim                        3.6.0\n",
            "geographiclib                 1.52\n",
            "geopy                         1.17.0\n",
            "gin-config                    0.5.0\n",
            "glob2                         0.7\n",
            "google                        2.0.3\n",
            "google-api-core               2.8.2\n",
            "google-api-python-client      1.12.11\n",
            "google-auth                   2.14.1\n",
            "google-auth-httplib2          0.0.4\n",
            "google-auth-oauthlib          0.4.6\n",
            "google-cloud-bigquery         3.3.6\n",
            "google-cloud-bigquery-storage 2.16.2\n",
            "google-cloud-core             2.3.2\n",
            "google-cloud-datastore        2.9.0\n",
            "google-cloud-firestore        2.7.2\n",
            "google-cloud-language         2.6.1\n",
            "google-cloud-storage          2.5.0\n",
            "google-cloud-translate        3.8.4\n",
            "google-colab                  1.0.0\n",
            "google-crc32c                 1.5.0\n",
            "google-pasta                  0.2.0\n",
            "google-resumable-media        2.4.0\n",
            "googleapis-common-protos      1.57.0\n",
            "googledrivedownloader         0.4\n",
            "graphviz                      0.10.1\n",
            "greenlet                      2.0.1\n",
            "grpcio                        1.50.0\n",
            "grpcio-status                 1.48.2\n",
            "gspread                       3.4.2\n",
            "gspread-dataframe             3.0.8\n",
            "gym                           0.25.2\n",
            "gym-notices                   0.0.8\n",
            "h5py                          3.1.0\n",
            "HeapDict                      1.0.1\n",
            "hijri-converter               2.2.4\n",
            "holidays                      0.17\n",
            "holoviews                     1.14.9\n",
            "html5lib                      1.0.1\n",
            "httpimport                    0.5.18\n",
            "httplib2                      0.17.4\n",
            "httpstan                      4.6.1\n",
            "humanize                      0.5.1\n",
            "hyperopt                      0.1.2\n",
            "idna                          2.10\n",
            "imageio                       2.9.0\n",
            "imagesize                     1.4.1\n",
            "imbalanced-learn              0.8.1\n",
            "imblearn                      0.0\n",
            "imgaug                        0.4.0\n",
            "importlib-metadata            4.13.0\n",
            "importlib-resources           5.10.0\n",
            "imutils                       0.5.4\n",
            "inflect                       2.1.0\n",
            "intel-openmp                  2022.2.1\n",
            "intervaltree                  2.1.0\n",
            "ipykernel                     5.3.4\n",
            "ipython                       7.9.0\n",
            "ipython-genutils              0.2.0\n",
            "ipython-sql                   0.3.9\n",
            "ipywidgets                    7.7.1\n",
            "itsdangerous                  1.1.0\n",
            "jax                           0.3.25\n",
            "jaxlib                        0.3.25+cuda11.cudnn805\n",
            "jieba                         0.42.1\n",
            "Jinja2                        2.11.3\n",
            "joblib                        1.2.0\n",
            "jpeg4py                       0.1.4\n",
            "jsonschema                    4.3.3\n",
            "jupyter-client                6.1.12\n",
            "jupyter-console               6.1.0\n",
            "jupyter-core                  4.11.2\n",
            "jupyterlab-widgets            3.0.3\n",
            "kaggle                        1.5.12\n",
            "kapre                         0.3.7\n",
            "keras                         2.9.0\n",
            "Keras-Preprocessing           1.1.2\n",
            "keras-vis                     0.4.1\n",
            "kiwisolver                    1.4.4\n",
            "korean-lunar-calendar         0.3.1\n",
            "langcodes                     3.3.0\n",
            "libclang                      14.0.6\n",
            "librosa                       0.8.1\n",
            "lightgbm                      2.2.3\n",
            "llvmlite                      0.39.1\n",
            "lmdb                          0.99\n",
            "locket                        1.0.0\n",
            "logical-unification           0.4.5\n",
            "LunarCalendar                 0.0.9\n",
            "lxml                          4.9.1\n",
            "Markdown                      3.4.1\n",
            "MarkupSafe                    2.0.1\n",
            "marshmallow                   3.19.0\n",
            "matplotlib                    3.2.2\n",
            "matplotlib-venn               0.11.7\n",
            "miniKanren                    1.0.3\n",
            "missingno                     0.5.1\n",
            "mistune                       0.8.4\n",
            "mizani                        0.7.3\n",
            "mkl                           2019.0\n",
            "mlxtend                       0.14.0\n",
            "more-itertools                9.0.0\n",
            "moviepy                       0.2.3.5\n",
            "mpmath                        1.2.1\n",
            "msgpack                       1.0.4\n",
            "multidict                     6.0.2\n",
            "multipledispatch              0.6.0\n",
            "multitasking                  0.0.11\n",
            "murmurhash                    1.0.9\n",
            "music21                       5.5.0\n",
            "natsort                       5.5.0\n",
            "nbconvert                     5.6.1\n",
            "nbformat                      5.7.0\n",
            "netCDF4                       1.6.2\n",
            "networkx                      2.6.3\n",
            "nibabel                       3.0.2\n",
            "nltk                          3.7\n",
            "notebook                      5.7.16\n",
            "numba                         0.56.4\n",
            "numexpr                       2.8.4\n",
            "numpy                         1.21.6\n",
            "oauth2client                  4.1.3\n",
            "oauthlib                      3.2.2\n",
            "okgrade                       0.4.3\n",
            "opencv-contrib-python         4.6.0.66\n",
            "opencv-python                 4.6.0.66\n",
            "opencv-python-headless        4.6.0.66\n",
            "openpyxl                      3.0.10\n",
            "opt-einsum                    3.3.0\n",
            "osqp                          0.6.2.post0\n",
            "packaging                     21.3\n",
            "palettable                    3.3.0\n",
            "pandas                        1.3.5\n",
            "pandas-datareader             0.9.0\n",
            "pandas-gbq                    0.17.9\n",
            "pandas-profiling              1.4.1\n",
            "pandocfilters                 1.5.0\n",
            "panel                         0.12.1\n",
            "param                         1.12.2\n",
            "parso                         0.8.3\n",
            "partd                         1.3.0\n",
            "pastel                        0.2.1\n",
            "pathlib                       1.0.1\n",
            "pathy                         0.8.1\n",
            "patsy                         0.5.3\n",
            "pep517                        0.13.0\n",
            "pexpect                       4.8.0\n",
            "pickleshare                   0.7.5\n",
            "Pillow                        7.1.2\n",
            "pip                           21.1.3\n",
            "pip-tools                     6.2.0\n",
            "plotly                        5.5.0\n",
            "plotnine                      0.8.0\n",
            "pluggy                        0.7.1\n",
            "pooch                         1.6.0\n",
            "portpicker                    1.3.9\n",
            "prefetch-generator            1.0.1\n",
            "preshed                       3.0.8\n",
            "prettytable                   3.5.0\n",
            "progressbar2                  3.38.0\n",
            "prometheus-client             0.15.0\n",
            "promise                       2.3\n",
            "prompt-toolkit                2.0.10\n",
            "prophet                       1.1.1\n",
            "proto-plus                    1.22.1\n",
            "protobuf                      3.19.6\n",
            "psutil                        5.4.8\n",
            "psycopg2                      2.9.5\n",
            "ptyprocess                    0.7.0\n",
            "py                            1.11.0\n",
            "pyarrow                       9.0.0\n",
            "pyasn1                        0.4.8\n",
            "pyasn1-modules                0.2.8\n",
            "pycocotools                   2.0.6\n",
            "pycparser                     2.21\n",
            "pyct                          0.4.8\n",
            "pydantic                      1.10.2\n",
            "pydata-google-auth            1.4.0\n",
            "pydot                         1.3.0\n",
            "pydot-ng                      2.0.0\n",
            "pydotplus                     2.0.2\n",
            "PyDrive                       1.3.1\n",
            "pyemd                         0.5.1\n",
            "pyerfa                        2.0.0.1\n",
            "Pygments                      2.6.1\n",
            "pygobject                     3.26.1\n",
            "pylev                         1.4.0\n",
            "pymc                          4.1.4\n",
            "PyMeeus                       0.5.11\n",
            "pymongo                       4.3.3\n",
            "pymystem3                     0.2.0\n",
            "PyOpenGL                      3.1.6\n",
            "pyparsing                     3.0.9\n",
            "pyrsistent                    0.19.2\n",
            "pysimdjson                    3.2.0\n",
            "pysndfile                     1.3.8\n",
            "PySocks                       1.7.1\n",
            "pystan                        3.3.0\n",
            "pytest                        3.6.4\n",
            "python-apt                    0.0.0\n",
            "python-dateutil               2.8.2\n",
            "python-louvain                0.16\n",
            "python-slugify                6.1.2\n",
            "python-utils                  3.4.5\n",
            "pytz                          2022.6\n",
            "pyviz-comms                   2.2.1\n",
            "PyWavelets                    1.3.0\n",
            "PyYAML                        6.0\n",
            "pyzmq                         23.2.1\n",
            "qdldl                         0.1.5.post2\n",
            "qudida                        0.0.4\n",
            "regex                         2022.6.2\n",
            "requests                      2.23.0\n",
            "requests-oauthlib             1.3.1\n",
            "resampy                       0.4.2\n",
            "rpy2                          3.5.5\n",
            "rsa                           4.9\n",
            "scikit-image                  0.18.3\n",
            "scikit-learn                  1.0.2\n",
            "scipy                         1.7.3\n",
            "screen-resolution-extra       0.0.0\n",
            "scs                           3.2.2\n",
            "seaborn                       0.11.2\n",
            "Send2Trash                    1.8.0\n",
            "setuptools                    57.4.0\n",
            "setuptools-git                1.2\n",
            "Shapely                       1.8.5.post1\n",
            "six                           1.15.0\n",
            "sklearn-pandas                1.8.0\n",
            "smart-open                    5.2.1\n",
            "snowballstemmer               2.2.0\n",
            "sortedcontainers              2.4.0\n",
            "soundfile                     0.11.0\n",
            "spacy                         3.4.3\n",
            "spacy-legacy                  3.0.10\n",
            "spacy-loggers                 1.0.3\n",
            "Sphinx                        1.8.6\n",
            "sphinxcontrib-serializinghtml 1.1.5\n",
            "sphinxcontrib-websupport      1.2.4\n",
            "SQLAlchemy                    1.4.44\n",
            "sqlparse                      0.4.3\n",
            "srsly                         2.4.5\n",
            "statsmodels                   0.12.2\n",
            "sympy                         1.7.1\n",
            "tables                        3.7.0\n",
            "tabulate                      0.8.10\n",
            "tblib                         1.7.0\n",
            "tenacity                      8.1.0\n",
            "tensorboard                   2.9.1\n",
            "tensorboard-data-server       0.6.1\n",
            "tensorboard-plugin-wit        1.8.1\n",
            "tensorflow                    2.9.2\n",
            "tensorflow-datasets           4.6.0\n",
            "tensorflow-estimator          2.9.0\n",
            "tensorflow-gcs-config         2.9.1\n",
            "tensorflow-hub                0.12.0\n",
            "tensorflow-io-gcs-filesystem  0.27.0\n",
            "tensorflow-metadata           1.11.0\n",
            "tensorflow-probability        0.17.0\n",
            "termcolor                     2.1.0\n",
            "terminado                     0.13.3\n",
            "testpath                      0.6.0\n",
            "text-unidecode                1.3\n",
            "textblob                      0.15.3\n",
            "thinc                         8.1.5\n",
            "threadpoolctl                 3.1.0\n",
            "tifffile                      2021.11.2\n",
            "toml                          0.10.2\n",
            "tomli                         2.0.1\n",
            "toolz                         0.12.0\n",
            "torch                         1.12.1+cu113\n",
            "torchaudio                    0.12.1+cu113\n",
            "torchsummary                  1.5.1\n",
            "torchtext                     0.13.1\n",
            "torchvision                   0.13.1+cu113\n",
            "tornado                       6.0.4\n",
            "tqdm                          4.64.1\n",
            "traitlets                     5.1.1\n",
            "tweepy                        3.10.0\n",
            "typeguard                     2.7.1\n",
            "typer                         0.7.0\n",
            "typing-extensions             4.1.1\n",
            "tzlocal                       1.5.1\n",
            "uritemplate                   3.0.1\n",
            "urllib3                       1.24.3\n",
            "vega-datasets                 0.9.0\n",
            "wasabi                        0.10.1\n",
            "wcwidth                       0.2.5\n",
            "webargs                       8.2.0\n",
            "webencodings                  0.5.1\n",
            "Werkzeug                      1.0.1\n",
            "wheel                         0.38.4\n",
            "widgetsnbextension            3.6.1\n",
            "wordcloud                     1.8.2.2\n",
            "wrapt                         1.14.1\n",
            "xarray                        0.20.2\n",
            "xarray-einstats               0.2.2\n",
            "xgboost                       0.90\n",
            "xkit                          0.0.0\n",
            "xlrd                          1.1.0\n",
            "xlwt                          1.3.0\n",
            "yarl                          1.8.1\n",
            "yellowbrick                   1.5\n",
            "zict                          2.2.0\n",
            "zipp                          3.10.0\n"
          ]
        }
      ],
      "source": [
        "!pip list"
      ]
    },
    {
      "cell_type": "code",
      "execution_count": null,
      "metadata": {
        "colab": {
          "base_uri": "https://localhost:8080/"
        },
        "id": "me7hH5JjO606",
        "outputId": "3638fa4e-afca-4a5c-d6a6-dddccfd4a018"
      },
      "outputs": [
        {
          "name": "stdout",
          "output_type": "stream",
          "text": [
            "Archive:  DATASET.zip\n",
            "  inflating: HW4_dataset/test.csv    \n",
            "  inflating: HW4_dataset/train.csv   \n",
            "  inflating: HW4_dataset/train_nolabel.csv  \n"
          ]
        }
      ],
      "source": [
        "!unzip DATASET.zip"
      ]
    },
    {
      "cell_type": "markdown",
      "metadata": {
        "id": "uNA6q0rnBwHP"
      },
      "source": [
        "# ***Basic setup of hyperparameters***"
      ]
    },
    {
      "cell_type": "code",
      "execution_count": null,
      "metadata": {
        "id": "1VX5NXp4WbEi"
      },
      "outputs": [],
      "source": [
        "BATCH_SIZE = 256 #256\n",
        "EPOCH_NUM = 200\n",
        "MAX_POSITIONS_LEN = 120\n",
        "SEED = 7414 # Set your lucky number as the random seed\n",
        "MODEL_DIR = 'model.pth'\n",
        "MODEL_DIR2 = 'super_model.pth'\n",
        "lr = 1e-5\n",
        "\n",
        "\n",
        "torch.backends.cudnn.deterministic = True\n",
        "torch.backends.cudnn.benchmark = False\n",
        "torch.manual_seed(SEED)\n",
        "torch.cuda.manual_seed_all(SEED)\n",
        "random.seed(SEED)\n",
        "np.random.seed(SEED)\n",
        "\n",
        "device = torch.device('cuda' if torch.cuda.is_available() else 'cpu')# 'cuda' if torch.cuda.is_available() else\n",
        "\n",
        "w2v_config = {'path': 'w2v.model', 'dim': 70}#'dim': 70\n",
        "net_config = {'hidden_dim': 256, 'num_layers': 3, 'bidirectional': False, 'fix_embedding': False}#'num_layers': 1'hidden_dim': 64\n",
        "header_config = {'dropout': 0.5, 'hidden_dim': 256}#'hidden_dim': 64{'dropout': 0.5\n",
        "assert header_config['hidden_dim'] == net_config['hidden_dim'] or header_config['hidden_dim'] == net_config['hidden_dim'] * 2"
      ]
    },
    {
      "cell_type": "markdown",
      "metadata": {
        "id": "FxOddxufB2dr"
      },
      "source": [
        "# ***Auxiliary functions and classes definition***"
      ]
    },
    {
      "cell_type": "code",
      "execution_count": null,
      "metadata": {
        "id": "v7PZMBJSWbEk"
      },
      "outputs": [],
      "source": [
        "def parsing_text(text):\n",
        "\n",
        "    #Removing URLs with a regular expression\n",
        "    url_pattern = re.compile(r'https?://\\S+|www\\.\\S+')\n",
        "    text = url_pattern.sub(r'', text)\n",
        "\n",
        "    # Remove @\n",
        "    text = re.sub('@\\S+', '', text)\n",
        "\n",
        "    # Remove Emails\n",
        "    text = re.sub('\\S*@\\S*\\s?', '', text)\n",
        "\n",
        "    # Remove new line characters\n",
        "    text = re.sub('\\s+', ' ', text)\n",
        "\n",
        "    # Remove distracting single quotes\n",
        "    text = re.sub(\"\\'\", \"\", text)\n",
        "\n",
        "    return text\n",
        "\n",
        "def load_train_label(path='HW4_dataset/train.csv'):\n",
        "    tra_lb_pd = pd.read_csv(path)\n",
        "    label = torch.FloatTensor(tra_lb_pd['label'].values)\n",
        "    idx = tra_lb_pd['id'].tolist()\n",
        "    text = [parsing_text(s).split(' ') for s in tra_lb_pd['text'].tolist()]\n",
        "    return idx, text, label\n",
        "\n",
        "def load_train_nolabel(path='HW4_dataset/train_nolabel.csv'):\n",
        "    tra_nlb_pd = pd.read_csv(path)\n",
        "    idx = tra_nlb_pd['id'].tolist()\n",
        "    text = [parsing_text(s).split(' ') for s in tra_nlb_pd['text'].tolist()]\n",
        "    return idx, text\n",
        "\n",
        "def load_test(path='HW4_dataset/test.csv'):\n",
        "    tst_pd = pd.read_csv(path)\n",
        "    idx = tst_pd['id'].tolist()\n",
        "    text = [parsing_text(s).split(' ') for s in tst_pd['text'].tolist()]\n",
        "    return idx, text"
      ]
    },
    {
      "cell_type": "code",
      "execution_count": null,
      "metadata": {
        "id": "N6JVOfd0WbEo"
      },
      "outputs": [],
      "source": [
        "class Preprocessor:\n",
        "    def __init__(self, sentences, w2v_config):\n",
        "        self.sentences = sentences\n",
        "        self.idx2word = []\n",
        "        self.word2idx = {}\n",
        "        self.embedding_matrix = []\n",
        "        self.build_word2vec(sentences, **w2v_config)\n",
        "\n",
        "    def build_word2vec(self, x, path, dim):\n",
        "        if os.path.isfile(path):\n",
        "            print(\"loading word2vec model ...\")\n",
        "            w2v_model = Word2Vec.load(path)\n",
        "        else:\n",
        "            print(\"training word2vec model ...\")\n",
        "            w2v_model = Word2Vec(x, size=dim, window=10, min_count=5, workers=12, iter=60, sg=0)#將字詞轉換成向量的形式，將文本的內容轉換成向量空間中的向量運算\n",
        "            #(data,size:轉成向量的維度,window:周圍詞彙要看多少範圍,min_count:詞彙少於min_count的不會參與訓練,workers:訓練的並行數量,iter:epoch數，sg=skip-gram)#window=9\n",
        "            print(\"saving word2vec model ...\")\n",
        "            w2v_model.save(path)\n",
        "        # 把之前訓練好的 word to vec 模型讀進來\n",
        "        self.embedding_dim = w2v_model.vector_size\n",
        "        # 製作一個 word2idx 的 dictionary\n",
        "        # 製作一個 idx2word 的 list\n",
        "        # 製作一個 word2vector 的 list\n",
        "        for i, word in enumerate(w2v_model.wv.vocab):\n",
        "            #e.g. self.word2index['he'] = 1\n",
        "            #e.g. self.index2word[1] = 'he'\n",
        "            #e.g. self.vectors[1] = 'he' vector\n",
        "            # 把 word 加進 embedding，並賦予他一個隨機生成的 representation vector\n",
        "            self.word2idx[word] = len(self.word2idx)\n",
        "            self.idx2word.append(word)\n",
        "            self.embedding_matrix.append(w2v_model[word])\n",
        "        # word 只會是 \"<PAD>\" 或 \"<UNK>\"\n",
        "        self.embedding_matrix = torch.tensor(self.embedding_matrix)\n",
        "        self.add_embedding('<PAD>')\n",
        "        self.add_embedding('<UNK>')\n",
        "        print(\"total words: {}\".format(len(self.embedding_matrix)))\n",
        "\n",
        "    def add_embedding(self, word):\n",
        "        vector = torch.empty(1, self.embedding_dim)\n",
        "        torch.nn.init.uniform_(vector)\n",
        "        self.word2idx[word] = len(self.word2idx)\n",
        "        self.idx2word.append(word)\n",
        "        self.embedding_matrix = torch.cat([self.embedding_matrix, vector], 0)\n",
        "\n",
        "    def sentence2idx(self, sentence):\n",
        "      # 把句子裡面的字轉成相對應的 index\n",
        "        sentence_idx = []\n",
        "        for word in sentence:\n",
        "            if word in self.word2idx.keys():\n",
        "                sentence_idx.append(self.word2idx[word])\n",
        "            else:\n",
        "                sentence_idx.append(self.word2idx[\"<UNK>\"])\n",
        "        return torch.LongTensor(sentence_idx)\n",
        "\n",
        "class TwitterDataset(torch.utils.data.Dataset):\n",
        "    def __init__(self, id_list, sentences, labels, preprocessor):\n",
        "        self.id_list = id_list\n",
        "        self.sentences = sentences\n",
        "        self.labels = labels\n",
        "        self.preprocessor = preprocessor\n",
        "\n",
        "    def __getitem__(self, idx):\n",
        "        if self.labels is None: return self.id_list[idx], self.preprocessor.sentence2idx(self.sentences[idx])\n",
        "        return self.id_list[idx], self.preprocessor.sentence2idx(self.sentences[idx]), self.labels[idx]\n",
        "\n",
        "    def __len__(self):\n",
        "        return len(self.sentences)\n",
        "\n",
        "    def collate_fn(self, data):\n",
        "        id_list = torch.LongTensor([d[0] for d in data])#建構一個long類型的tensor\n",
        "        lengths = torch.LongTensor([len(d[1]) for d in data])\n",
        "        texts = pad_sequence(\n",
        "            [d[1] for d in data], batch_first=True).contiguous()\n",
        "\n",
        "        if self.labels == None:\n",
        "            return id_list, lengths, texts\n",
        "        else:\n",
        "          labels = torch.FloatTensor([d[2] for d in data])\n",
        "          return id_list, lengths, texts, labels"
      ]
    },
    {
      "cell_type": "code",
      "execution_count": null,
      "metadata": {
        "id": "jpK_-m5pWbGZ"
      },
      "outputs": [],
      "source": [
        "train_idx, train_label_text, label = load_train_label('HW4_dataset/train.csv')"
      ]
    },
    {
      "cell_type": "code",
      "execution_count": null,
      "metadata": {
        "colab": {
          "base_uri": "https://localhost:8080/"
        },
        "id": "PwuBppnV-ChI",
        "outputId": "763091c9-fb53-4bcd-f136-575e80c1f41a"
      },
      "outputs": [
        {
          "name": "stderr",
          "output_type": "stream",
          "text": [
            "WARNING:gensim.models.base_any2vec:consider setting layer size to a multiple of 4 for greater performance\n"
          ]
        },
        {
          "name": "stdout",
          "output_type": "stream",
          "text": [
            "training word2vec model ...\n",
            "saving word2vec model ...\n"
          ]
        },
        {
          "name": "stderr",
          "output_type": "stream",
          "text": [
            "/usr/local/lib/python3.7/dist-packages/ipykernel_launcher.py:31: DeprecationWarning: Call to deprecated `__getitem__` (Method will be removed in 4.0.0, use self.wv.__getitem__() instead).\n",
            "/usr/local/lib/python3.7/dist-packages/ipykernel_launcher.py:33: UserWarning: Creating a tensor from a list of numpy.ndarrays is extremely slow. Please consider converting the list to a single numpy.ndarray with numpy.array() before converting to a tensor. (Triggered internally at  ../torch/csrc/utils/tensor_new.cpp:201.)\n"
          ]
        },
        {
          "name": "stdout",
          "output_type": "stream",
          "text": [
            "total words: 22094\n"
          ]
        }
      ],
      "source": [
        "preprocessor = Preprocessor(train_label_text, w2v_config)"
      ]
    },
    {
      "cell_type": "code",
      "execution_count": null,
      "metadata": {
        "colab": {
          "base_uri": "https://localhost:8080/"
        },
        "id": "UAz3ZPtEqLcC",
        "outputId": "f4738a2c-017c-4579-9220-44b849c7856e"
      },
      "outputs": [
        {
          "name": "stderr",
          "output_type": "stream",
          "text": [
            "/usr/local/lib/python3.7/dist-packages/torch/utils/data/dataloader.py:566: UserWarning: This DataLoader will create 8 worker processes in total. Our suggested max number of worker in current system is 2, which is smaller than what this DataLoader is going to create. Please be aware that excessive worker creation might get DataLoader running slow or even freeze, lower the worker number to avoid potential slowness/freeze if necessary.\n",
            "  cpuset_checked))\n"
          ]
        }
      ],
      "source": [
        "train_idx, valid_idx, train_label_text, valid_label_text, train_label, valid_label = train_test_split(train_idx, train_label_text, label, test_size=0.5)\n",
        "train_dataset, valid_dataset = TwitterDataset(train_idx, train_label_text, train_label, preprocessor), TwitterDataset(valid_idx, valid_label_text, valid_label, preprocessor)\n",
        "\n",
        "test_idx, test_text = load_test('HW4_dataset/test.csv')\n",
        "test_dataset = TwitterDataset(test_idx, test_text, None, preprocessor)\n",
        "\n",
        "train_loader = torch.utils.data.DataLoader(dataset = train_dataset,\n",
        "                                            batch_size = BATCH_SIZE,\n",
        "                                            shuffle = True,\n",
        "                                            collate_fn = train_dataset.collate_fn,\n",
        "                                            num_workers = 8)\n",
        "valid_loader = torch.utils.data.DataLoader(dataset = valid_dataset,\n",
        "                                            batch_size = BATCH_SIZE,\n",
        "                                            shuffle = False,\n",
        "                                            collate_fn = valid_dataset.collate_fn,\n",
        "                                            num_workers = 8)\n",
        "test_loader = torch.utils.data.DataLoader(dataset = test_dataset,\n",
        "                                            batch_size = BATCH_SIZE,\n",
        "                                            shuffle = False,\n",
        "                                            collate_fn = test_dataset.collate_fn,\n",
        "                                            num_workers = 8)"
      ]
    },
    {
      "cell_type": "markdown",
      "metadata": {
        "id": "TGHVyJwjCBRB"
      },
      "source": [
        "# ***Definition of RNN network***"
      ]
    },
    {
      "cell_type": "code",
      "execution_count": null,
      "metadata": {
        "id": "9BtL7itbWbGk"
      },
      "outputs": [],
      "source": [
        "class Backbone(torch.nn.Module):\n",
        "    def __init__(self, embedding, hidden_dim, num_layers, bidirectional, fix_embedding=True):\n",
        "        super(Backbone, self).__init__()\n",
        "        # 製作 embedding layer\n",
        "        self.embedding = torch.nn.Embedding(embedding.size(0),embedding.size(1))#(所有文本詞彙index的數量，一個詞應該轉換成多少維的向量)\n",
        "        self.embedding.weight = torch.nn.Parameter(embedding)\n",
        "        # 是否將 embedding fix 住，如果 fix_embedding 為 False，在訓練過程中，embedding 也會跟著被訓練\n",
        "        self.embedding.weight.requires_grad = False if fix_embedding else True\n",
        "\n",
        "        self.net = torch.nn.LSTM(embedding.size(1), hidden_dim, num_layers=num_layers, \\\n",
        "                                  bidirectional=bidirectional, batch_first=True)\n",
        "\n",
        "    def forward(self, inputs):\n",
        "        inputs = self.embedding(inputs)\n",
        "        x, _ = self.net(inputs)\n",
        "        return x\n",
        "\n",
        "class Header(torch.nn.Module):\n",
        "    def __init__(self, dropout, hidden_dim):\n",
        "        super(Header, self).__init__()\n",
        "        # TODO: you should design your classifier module\n",
        "        self.classifier = torch.nn.Sequential(torch.nn.Dropout(dropout),\n",
        "                            torch.nn.Linear(hidden_dim,1),\n",
        "                            torch.nn.Sigmoid(),\n",
        "                            torch.nn.LeakyReLU(negative_slope=0.5),\n",
        "                            torch.nn.LeakyReLU(negative_slope=0.5))\n",
        "                            #torch.nn.Linear(256,512),\n",
        "                            #torch.nn.Sigmoid())\n",
        "                            #torch.nn.LeakyReLU(negative_slope=0.5),\n",
        "                            #torch.nn.LeakyReLU(negative_slope=0.5),\n",
        "                            #torch.nn.ReLU(),\n",
        "                            #torch.nn.Linear(512,1))\n",
        "                            #torch.nn.LeakyReLU(negative_slope=0.5))\n",
        "                            #torch.nn.Sigmoid(),\n",
        "                            #torch.nn.ReLU(),\n",
        "                            #torch.nn.Linear(512,1))\n",
        "                            #torch.nn.LeakyReLU(negative_slope=0.5),\n",
        "                            #torch.nn.Linear(1024,1))\n",
        "\n",
        "    @ torch.no_grad()\n",
        "    def _get_length_masks(self, lengths):\n",
        "        # lengths: (batch_size, ) in cuda\n",
        "        ascending = torch.arange(MAX_POSITIONS_LEN)[:lengths.max().item()].unsqueeze(\n",
        "            0).expand(len(lengths), -1).to(lengths.device)\n",
        "        length_masks = (ascending < lengths.unsqueeze(-1)).unsqueeze(-1)\n",
        "        return length_masks\n",
        "\n",
        "    def forward(self, inputs, lengths):\n",
        "        # the input shape should be (N, L, D∗H)\n",
        "        pad_mask = self._get_length_masks(lengths)\n",
        "        inputs = inputs * pad_mask\n",
        "        inputs = inputs.sum(dim=1)\n",
        "        out = self.classifier(inputs).squeeze()\n",
        "        return out"
      ]
    },
    {
      "cell_type": "markdown",
      "metadata": {
        "id": "Yoha_vt-n78O"
      },
      "source": [
        "# ***Early stopping***"
      ]
    },
    {
      "cell_type": "code",
      "execution_count": null,
      "metadata": {
        "id": "uJOL8N5pkdPF"
      },
      "outputs": [],
      "source": [
        "class EarlyStopping(object):\n",
        "    def __init__(self, mode='max', min_delta=0, patience=10, percentage=False):\n",
        "        self.mode = mode\n",
        "        self.min_delta = min_delta\n",
        "        self.patience = patience\n",
        "        self.best = None\n",
        "        self.num_bad_epochs = 0\n",
        "        self.is_better = None\n",
        "        self._init_is_better(mode, min_delta, percentage)\n",
        "\n",
        "        if patience == 0:\n",
        "            self.is_better = lambda a, b: True #表示暱名函式（ Anonymous Function ）。\n",
        "            self.step = lambda a: False\n",
        "\n",
        "    def step(self, metrics):\n",
        "        if self.best is None:\n",
        "            self.best = metrics\n",
        "            return False\n",
        "\n",
        "        if np.isnan(metrics):#判斷是否是空值\n",
        "            return True\n",
        "\n",
        "        if self.is_better(metrics, self.best):\n",
        "            self.num_bad_epochs = 0\n",
        "            self.best = metrics\n",
        "        else:\n",
        "            self.num_bad_epochs += 1\n",
        "\n",
        "        if self.num_bad_epochs >= self.patience:\n",
        "            return True\n",
        "\n",
        "        return False\n",
        "\n",
        "    def _init_is_better(self, mode, min_delta, percentage):\n",
        "        if mode not in {'min', 'max'}:\n",
        "            raise ValueError('mode ' + mode + ' is unknown!')\n",
        "        if not percentage:\n",
        "            if mode == 'min':\n",
        "                self.is_better = lambda a, best: a < best - min_delta\n",
        "            if mode == 'max':\n",
        "                self.is_better = lambda a, best: a > best + min_delta\n",
        "        else:\n",
        "            if mode == 'min':\n",
        "                self.is_better = lambda a, best: a < best - (\n",
        "                            best * min_delta / 100)\n",
        "            if mode == 'max':\n",
        "                self.is_better = lambda a, best: a > best + (\n",
        "                            best * min_delta / 100)"
      ]
    },
    {
      "cell_type": "markdown",
      "metadata": {
        "id": "Go3chn37CGs8"
      },
      "source": [
        "# ***Trainer***"
      ]
    },
    {
      "cell_type": "code",
      "execution_count": null,
      "metadata": {
        "id": "WdfQS_0FWbG3"
      },
      "outputs": [],
      "source": [
        "def train(train_loader, backbone, header, optimizer, criterion, device, epoch):\n",
        "\n",
        "    total_loss = []\n",
        "    total_acc = []\n",
        "\n",
        "    for i, (idx_list, lengths, texts, labels) in enumerate(train_loader):\n",
        "        lengths, inputs, labels = lengths.to(device), texts.to(device), labels.to(device)\n",
        "\n",
        "        optimizer.zero_grad()# 由於 loss.backward() 的 gradient 會累加，所以每次餵完一個 batch 後需要歸零\n",
        "        if not backbone is None:\n",
        "            inputs = backbone(inputs)# 將 input 餵給模型\n",
        "        soft_predicted = header(inputs, lengths)\n",
        "        loss = criterion(soft_predicted, labels)# 計算此時模型的 training loss\n",
        "        loss.backward()# 算 loss 的 gradient，從loss開始做backpropagation\n",
        "        optimizer.step() # 更新訓練模型的參數\n",
        "\n",
        "        with torch.no_grad():\n",
        "            hard_predicted = (soft_predicted >= 0.5).int()\n",
        "            correct = sum(hard_predicted == labels).item()\n",
        "            batch_size = len(labels)\n",
        "\n",
        "            print('[Validation in epoch {:}] loss:{:.3f} acc:{:.3f}'.format(epoch+1, np.mean(total_loss), np.mean(total_acc)), end='\\r')\n",
        "    backbone.train()#將模式設為 train，這樣 optimizer 就可以更新 model 的參數\n",
        "    header.train()#將模式設為 train，這樣 optimizer 就可以更新 model 的參數\n",
        "    return np.mean(total_loss), np.mean(total_acc)\n",
        "\n",
        "def valid(valid_loader, backbone, header, criterion, device, epoch):\n",
        "    backbone.eval()# 將 模式設為 eval，這樣 model 的參數就會固定住\n",
        "    header.eval()# 將 模式設為 eval，這樣 model 的參數就會固定住\n",
        "    with torch.no_grad():#不做gradient也不做backpropagation\n",
        "        total_loss = []\n",
        "        total_acc = []\n",
        "\n",
        "        for i, (idx_list, lengths, texts, labels) in enumerate(valid_loader):\n",
        "            lengths, inputs, labels = lengths.to(device), texts.to(device), labels.to(device)\n",
        "\n",
        "            if not backbone is None:\n",
        "                inputs = backbone(inputs)\n",
        "            soft_predicted = header(inputs, lengths)\n",
        "            loss = criterion(soft_predicted, labels)\n",
        "            total_loss.append(loss.item())\n",
        "\n",
        "            hard_predicted = (soft_predicted >= 0.5).int()\n",
        "            correct = sum(hard_predicted == labels).item()\n",
        "            acc = correct * 100 / len(labels)\n",
        "            total_acc.append(acc)\n",
        "\n",
        "            print('[Validation in epoch {:}] loss:{:.3f} acc:{:.3f}'.format(epoch+1, np.mean(total_loss), np.mean(total_acc)), end='\\r')\n",
        "    backbone.train()# # 將模式設為 train，這樣 optimizer 就可以更新 model 的參數（因為剛剛轉成 eval 模式）\n",
        "    header.train()# # 將模式設為 train，這樣 optimizer 就可以更新 model 的參數（因為剛剛轉成 eval 模式）\n",
        "    return np.mean(total_loss), np.mean(total_acc)\n",
        "\n",
        "def better(acc_record):\n",
        "    if max(acc_record) == acc_record[-1]: return True\n",
        "    return False\n",
        "\n",
        "def run_training(train_loader, valid_loader, backbone, header, epoch_num, lr, device, model_dir, scheduler = None):\n",
        "    es = EarlyStopping(patience = 10)\n",
        "    def check_point(backbone, header, acc, acc_record, model_dir):\n",
        "        if acc>=np.mean(acc_record[-5:]):\n",
        "          torch.save({'backbone': backbone, 'header': header}, model_dir)#保存整個模型\n",
        "          print('model saved to %s' % model_dir)\n",
        "    def is_stop(acc):\n",
        "        if es.step(acc):\n",
        "          print(\"Early stopping at Epoch: {}\". format(epoch+1))\n",
        "          return True\n",
        "        else:\n",
        "          return False\n",
        "\n",
        "    if backbone is None:\n",
        "        trainable_paras = header.parameters()\n",
        "    else:\n",
        "        trainable_paras = list(backbone.parameters()) + list(header.parameters())\n",
        "\n",
        "    optimizer = torch.optim.Adam(trainable_paras, lr=lr, betas=(0.9,0.999), eps=1e-08, weight_decay=0)# 將模型的參數給 optimizer，並給予適當的 learning rate\n",
        "    acc_record=[]\n",
        "    backbone.train()# 將模式設為 train，這樣 optimizer 就可以更新 model 的參數\n",
        "    header.train()# 將模式設為 train，這樣 optimizer 就可以更新 model 的參數\n",
        "\n",
        "    backbone = backbone.to(device)# device 為 \"cuda\"\n",
        "    header = header.to(device)# device 為 \"cuda\"\n",
        "    #if not scheduler:\n",
        "        #scheduler = torch.optim.lr_scheduler.ReduceLROnPlateau(optimizer, mode='max', factor=0.6, patience=20) #lr rate schedular(最大化 acc, lr*0.5, parience=5)\n",
        "\n",
        "    criterion = torch.nn.BCELoss()#binary cross entropy loss#BCEWithLogitsLoss\n",
        "    for epoch in range(epoch_num):\n",
        "        train(train_loader, backbone, header, optimizer, criterion, device, epoch)\n",
        "        loss, acc = valid(valid_loader, backbone, header, criterion, device, epoch)\n",
        "\n",
        "        acc_record.append(acc)\n",
        "        print('[Validation in epoch {:}] loss:{:.3f} acc:{:.3f} learning rate: {:}'.format(epoch+1, loss, acc, optimizer.param_groups[0]['lr']))\n",
        "        #scheduler.step(1)\n",
        "        if better(acc_record):\n",
        "          check_point(backbone, header, acc, acc_record, model_dir)\n",
        "        if is_stop(acc):\n",
        "            break\n",
        "    %matplotlib inline\n",
        "    fig = plt.figure() #定義一個圖像窗口\n",
        "    plt.title(\"valid learning curve\")\n",
        "    plt.xlabel(\"Epoch\")\n",
        "    plt.ylabel(\"accuracy\")\n",
        "    line1,=plt.plot(acc_record, '-x',color='red',label='valid learning curve') #定義x,y和圖的樣式"
      ]
    },
    {
      "cell_type": "markdown",
      "metadata": {
        "id": "QbhQ7pueCJEt"
      },
      "source": [
        "# ***Training***"
      ]
    },
    {
      "cell_type": "code",
      "execution_count": null,
      "metadata": {
        "colab": {
          "base_uri": "https://localhost:8080/",
          "height": 1000
        },
        "id": "Amq9XWbEWbG9",
        "outputId": "7e9315b9-d37d-4e77-cbfd-6f143ae28b78"
      },
      "outputs": [
        {
          "name": "stderr",
          "output_type": "stream",
          "text": [
            "/usr/local/lib/python3.7/dist-packages/numpy/core/fromnumeric.py:3441: RuntimeWarning: Mean of empty slice.\n",
            "  out=out, **kwargs)\n",
            "/usr/local/lib/python3.7/dist-packages/numpy/core/_methods.py:189: RuntimeWarning: invalid value encountered in double_scalars\n",
            "  ret = ret.dtype.type(ret / rcount)\n"
          ]
        },
        {
          "name": "stdout",
          "output_type": "stream",
          "text": [
            "[Validation in epoch 1] loss:0.630 acc:68.246 learning rate: 1e-05\n",
            "model saved to model.pth\n",
            "[Validation in epoch 2] loss:0.595 acc:70.542 learning rate: 1e-05\n",
            "model saved to model.pth\n",
            "[Validation in epoch 3] loss:0.579 acc:71.900 learning rate: 1e-05\n",
            "model saved to model.pth\n",
            "[Validation in epoch 4] loss:0.567 acc:72.708 learning rate: 1e-05\n",
            "model saved to model.pth\n",
            "[Validation in epoch 5] loss:0.556 acc:73.520 learning rate: 1e-05\n",
            "model saved to model.pth\n",
            "[Validation in epoch 6] loss:0.546 acc:74.003 learning rate: 1e-05\n",
            "model saved to model.pth\n",
            "[Validation in epoch 7] loss:0.537 acc:74.301 learning rate: 1e-05\n",
            "model saved to model.pth\n",
            "[Validation in epoch 8] loss:0.529 acc:74.578 learning rate: 1e-05\n",
            "model saved to model.pth\n",
            "[Validation in epoch 9] loss:0.523 acc:74.830 learning rate: 1e-05\n",
            "model saved to model.pth\n",
            "[Validation in epoch 10] loss:0.520 acc:74.994 learning rate: 1e-05\n",
            "model saved to model.pth\n",
            "[Validation in epoch 11] loss:0.516 acc:75.130 learning rate: 1e-05\n",
            "model saved to model.pth\n",
            "[Validation in epoch 12] loss:0.513 acc:75.456 learning rate: 1e-05\n",
            "model saved to model.pth\n",
            "[Validation in epoch 13] loss:0.510 acc:75.568 learning rate: 1e-05\n",
            "model saved to model.pth\n",
            "[Validation in epoch 14] loss:0.508 acc:75.758 learning rate: 1e-05\n",
            "model saved to model.pth\n",
            "[Validation in epoch 15] loss:0.505 acc:75.869 learning rate: 1e-05\n",
            "model saved to model.pth\n",
            "[Validation in epoch 16] loss:0.503 acc:75.915 learning rate: 1e-05\n",
            "model saved to model.pth\n",
            "[Validation in epoch 17] loss:0.501 acc:76.065 learning rate: 1e-05\n",
            "model saved to model.pth\n",
            "[Validation in epoch 18] loss:0.499 acc:76.155 learning rate: 1e-05\n",
            "model saved to model.pth\n",
            "[Validation in epoch 19] loss:0.499 acc:76.173 learning rate: 1e-05\n",
            "model saved to model.pth\n",
            "[Validation in epoch 20] loss:0.496 acc:76.361 learning rate: 1e-05\n",
            "model saved to model.pth\n",
            "[Validation in epoch 21] loss:0.494 acc:76.428 learning rate: 1e-05\n",
            "model saved to model.pth\n",
            "[Validation in epoch 22] loss:0.493 acc:76.571 learning rate: 1e-05\n",
            "model saved to model.pth\n",
            "[Validation in epoch 23] loss:0.492 acc:76.568 learning rate: 1e-05\n",
            "[Validation in epoch 24] loss:0.490 acc:76.654 learning rate: 1e-05\n",
            "model saved to model.pth\n",
            "[Validation in epoch 25] loss:0.488 acc:76.740 learning rate: 1e-05\n",
            "model saved to model.pth\n",
            "[Validation in epoch 26] loss:0.488 acc:76.710 learning rate: 1e-05\n",
            "[Validation in epoch 27] loss:0.487 acc:76.863 learning rate: 1e-05\n",
            "model saved to model.pth\n",
            "[Validation in epoch 28] loss:0.485 acc:76.879 learning rate: 1e-05\n",
            "model saved to model.pth\n",
            "[Validation in epoch 29] loss:0.484 acc:76.978 learning rate: 1e-05\n",
            "model saved to model.pth\n",
            "[Validation in epoch 30] loss:0.483 acc:76.992 learning rate: 1e-05\n",
            "model saved to model.pth\n",
            "[Validation in epoch 31] loss:0.482 acc:77.076 learning rate: 1e-05\n",
            "model saved to model.pth\n",
            "[Validation in epoch 32] loss:0.482 acc:77.045 learning rate: 1e-05\n",
            "[Validation in epoch 33] loss:0.481 acc:77.151 learning rate: 1e-05\n",
            "model saved to model.pth\n",
            "[Validation in epoch 34] loss:0.482 acc:77.050 learning rate: 1e-05\n",
            "[Validation in epoch 35] loss:0.479 acc:77.259 learning rate: 1e-05\n",
            "model saved to model.pth\n",
            "[Validation in epoch 36] loss:0.478 acc:77.212 learning rate: 1e-05\n",
            "[Validation in epoch 37] loss:0.477 acc:77.318 learning rate: 1e-05\n",
            "model saved to model.pth\n",
            "[Validation in epoch 38] loss:0.477 acc:77.321 learning rate: 1e-05\n",
            "model saved to model.pth\n",
            "[Validation in epoch 39] loss:0.476 acc:77.373 learning rate: 1e-05\n",
            "model saved to model.pth\n",
            "[Validation in epoch 40] loss:0.476 acc:77.395 learning rate: 1e-05\n",
            "model saved to model.pth\n",
            "[Validation in epoch 41] loss:0.477 acc:77.379 learning rate: 1e-05\n",
            "[Validation in epoch 42] loss:0.477 acc:77.354 learning rate: 1e-05\n",
            "[Validation in epoch 43] loss:0.474 acc:77.495 learning rate: 1e-05\n",
            "model saved to model.pth\n",
            "[Validation in epoch 44] loss:0.473 acc:77.636 learning rate: 1e-05\n",
            "model saved to model.pth\n",
            "[Validation in epoch 45] loss:0.475 acc:77.591 learning rate: 1e-05\n",
            "[Validation in epoch 46] loss:0.474 acc:77.571 learning rate: 1e-05\n",
            "[Validation in epoch 47] loss:0.474 acc:77.618 learning rate: 1e-05\n",
            "[Validation in epoch 48] loss:0.473 acc:77.753 learning rate: 1e-05\n",
            "model saved to model.pth\n",
            "[Validation in epoch 49] loss:0.471 acc:77.784 learning rate: 1e-05\n",
            "model saved to model.pth\n",
            "[Validation in epoch 50] loss:0.474 acc:77.599 learning rate: 1e-05\n",
            "[Validation in epoch 51] loss:0.470 acc:77.888 learning rate: 1e-05\n",
            "model saved to model.pth\n",
            "[Validation in epoch 52] loss:0.469 acc:77.934 learning rate: 1e-05\n",
            "model saved to model.pth\n",
            "[Validation in epoch 53] loss:0.469 acc:77.922 learning rate: 1e-05\n",
            "[Validation in epoch 54] loss:0.469 acc:77.995 learning rate: 1e-05\n",
            "model saved to model.pth\n",
            "[Validation in epoch 55] loss:0.468 acc:78.032 learning rate: 1e-05\n",
            "model saved to model.pth\n",
            "[Validation in epoch 56] loss:0.468 acc:77.954 learning rate: 1e-05\n",
            "[Validation in epoch 57] loss:0.468 acc:77.981 learning rate: 1e-05\n",
            "[Validation in epoch 58] loss:0.467 acc:78.028 learning rate: 1e-05\n",
            "[Validation in epoch 59] loss:0.467 acc:78.051 learning rate: 1e-05\n",
            "model saved to model.pth\n",
            "[Validation in epoch 60] loss:0.467 acc:78.041 learning rate: 1e-05\n",
            "[Validation in epoch 61] loss:0.467 acc:78.043 learning rate: 1e-05\n",
            "[Validation in epoch 62] loss:0.467 acc:78.089 learning rate: 1e-05\n",
            "model saved to model.pth\n",
            "[Validation in epoch 63] loss:0.468 acc:77.994 learning rate: 1e-05\n",
            "[Validation in epoch 64] loss:0.467 acc:78.078 learning rate: 1e-05\n",
            "[Validation in epoch 65] loss:0.468 acc:78.018 learning rate: 1e-05\n",
            "[Validation in epoch 66] loss:0.466 acc:78.160 learning rate: 1e-05\n",
            "model saved to model.pth\n",
            "[Validation in epoch 67] loss:0.466 acc:78.146 learning rate: 1e-05\n",
            "[Validation in epoch 68] loss:0.465 acc:78.172 learning rate: 1e-05\n",
            "model saved to model.pth\n",
            "[Validation in epoch 69] loss:0.466 acc:78.233 learning rate: 1e-05\n",
            "model saved to model.pth\n",
            "[Validation in epoch 70] loss:0.465 acc:78.184 learning rate: 1e-05\n",
            "[Validation in epoch 71] loss:0.467 acc:78.096 learning rate: 1e-05\n",
            "[Validation in epoch 72] loss:0.466 acc:78.261 learning rate: 1e-05\n",
            "model saved to model.pth\n",
            "[Validation in epoch 73] loss:0.465 acc:78.236 learning rate: 1e-05\n",
            "[Validation in epoch 74] loss:0.465 acc:78.154 learning rate: 1e-05\n",
            "[Validation in epoch 75] loss:0.467 acc:78.296 learning rate: 1e-05\n",
            "model saved to model.pth\n",
            "[Validation in epoch 76] loss:0.466 acc:78.228 learning rate: 1e-05\n",
            "[Validation in epoch 77] loss:0.466 acc:78.211 learning rate: 1e-05\n",
            "[Validation in epoch 78] loss:0.467 acc:78.134 learning rate: 1e-05\n",
            "[Validation in epoch 79] loss:0.466 acc:78.303 learning rate: 1e-05\n",
            "model saved to model.pth\n",
            "[Validation in epoch 80] loss:0.466 acc:78.280 learning rate: 1e-05\n",
            "[Validation in epoch 81] loss:0.466 acc:78.204 learning rate: 1e-05\n",
            "[Validation in epoch 82] loss:0.466 acc:78.191 learning rate: 1e-05\n",
            "[Validation in epoch 83] loss:0.469 acc:78.152 learning rate: 1e-05\n",
            "[Validation in epoch 84] loss:0.466 acc:78.267 learning rate: 1e-05\n",
            "[Validation in epoch 85] loss:0.466 acc:78.281 learning rate: 1e-05\n",
            "[Validation in epoch 86] loss:0.471 acc:78.151 learning rate: 1e-05\n",
            "[Validation in epoch 87] loss:0.467 acc:78.173 learning rate: 1e-05\n",
            "[Validation in epoch 88] loss:0.467 acc:78.290 learning rate: 1e-05\n",
            "[Validation in epoch 89] loss:0.468 acc:78.228 learning rate: 1e-05\n",
            "Early stopping at Epoch: 89\n"
          ]
        },
        {
          "data": {
            "image/png": "[encoded data removed]",
            "text/plain": [
              "<Figure size 432x288 with 1 Axes>"
            ]
          },
          "metadata": {},
          "output_type": "display_data"
        }
      ],
      "source": [
        "backbone = Backbone(preprocessor.embedding_matrix, **net_config)\n",
        "header = Header(**header_config)\n",
        "\n",
        "run_training(train_loader, valid_loader, backbone, header, EPOCH_NUM, lr, device, MODEL_DIR, scheduler = None)"
      ]
    },
    {
      "cell_type": "markdown",
      "metadata": {
        "id": "8ZOUO_U73eXr"
      },
      "source": [
        "# ***Pseudo Labeling***"
      ]
    },
    {
      "cell_type": "code",
      "execution_count": null,
      "metadata": {
        "id": "GCKUpSVpBYGR"
      },
      "outputs": [],
      "source": [
        "train_nolabel_idx , train_nolabel_text = load_test('HW4_dataset/train_nolabel.csv')\n",
        "train_nolabel_dataset = TwitterDataset(train_nolabel_idx, train_nolabel_text, None, preprocessor)\n",
        "train_nolabel_loader = torch.utils.data.DataLoader(dataset = train_nolabel_dataset,\n",
        "                                            batch_size = BATCH_SIZE,\n",
        "                                            shuffle = False,\n",
        "                                            collate_fn = train_nolabel_dataset.collate_fn,\n",
        "                                            num_workers = 8)"
      ]
    },
    {
      "cell_type": "code",
      "execution_count": null,
      "metadata": {
        "id": "ESwPGEBJE5JL"
      },
      "outputs": [],
      "source": [
        "def PseudoLabeler(loader, backbone, header, device, output_path):\n",
        "  with open(output_path, 'w') as f:\n",
        "    backbone.eval()\n",
        "    header.eval()\n",
        "    writer = csv.writer(f)\n",
        "    writer.writerow(['id', 'label'])\n",
        "    with torch.no_grad():\n",
        "      for i, (idx_list, lengths, texts) in enumerate(loader):\n",
        "        lengths, inputs = lengths.to(device), texts.to(device)\n",
        "        if not backbone is None:\n",
        "          inputs = backbone(inputs)\n",
        "        soft_predicted = header(inputs, lengths)\n",
        "        hard_predicted = (soft_predicted >= 0.5).int()\n",
        "        for i, p in zip(idx_list, hard_predicted):\n",
        "          writer.writerow([str(i.item()), str(p.item())])"
      ]
    },
    {
      "cell_type": "code",
      "execution_count": null,
      "metadata": {
        "id": "KI1I7bGeQfRn"
      },
      "outputs": [],
      "source": [
        "EXP_name = \"Pseudo_Label\"\n",
        "pred_file = f'{EXP_name}-pred.csv'\n",
        "PseudoLabeler(train_nolabel_loader, backbone, header, device, pred_file)\n",
        "f1=pd.read_csv('Pseudo_Label-pred.csv')\n",
        "f2=pd.read_csv('HW4_dataset/train_nolabel.csv')\n",
        "f=[f1,f2['text']]\n",
        "d=pd.concat(f,axis=1)\n",
        "d.to_csv(\"Pseudo_Label.csv\",index=0,sep=',')"
      ]
    },
    {
      "cell_type": "code",
      "execution_count": null,
      "metadata": {
        "id": "HR2Zv4JvQhm2"
      },
      "outputs": [],
      "source": [
        "d1=pd.read_csv('HW4_dataset/train.csv')\n",
        "d2=pd.read_csv('Pseudo_Label.csv')\n",
        "dd=[d1,d2]\n",
        "super_train=pd.concat(dd).sample(frac=1)\n",
        "super_train.to_csv(\"HW4_dataset/super_train.csv\",index=0,sep=',')"
      ]
    },
    {
      "cell_type": "code",
      "execution_count": null,
      "metadata": {
        "id": "9VqtE25qR0kK"
      },
      "outputs": [],
      "source": [
        "super_train_idx, super_train_label_text, super_train_label = load_train_label('HW4_dataset/super_train.csv')"
      ]
    },
    {
      "cell_type": "code",
      "execution_count": null,
      "metadata": {
        "id": "gTYeg06iSEb3",
        "colab": {
          "base_uri": "https://localhost:8080/"
        },
        "outputId": "1749bca7-16e9-4ee7-fe96-668ed0f7c040"
      },
      "outputs": [
        {
          "output_type": "stream",
          "name": "stdout",
          "text": [
            "loading word2vec model ...\n",
            "total words: 22094\n"
          ]
        },
        {
          "output_type": "stream",
          "name": "stderr",
          "text": [
            "/usr/local/lib/python3.7/dist-packages/ipykernel_launcher.py:31: DeprecationWarning: Call to deprecated `__getitem__` (Method will be removed in 4.0.0, use self.wv.__getitem__() instead).\n"
          ]
        }
      ],
      "source": [
        "super_preprocessor = Preprocessor(super_train_label_text, w2v_config)"
      ]
    },
    {
      "cell_type": "code",
      "execution_count": null,
      "metadata": {
        "id": "JnBhPfcNTFcR"
      },
      "outputs": [],
      "source": [
        "super_train_idx, super_valid_idx, super_train_label_text, super_valid_label_text, super_train_label, super_valid_label = train_test_split(super_train_idx, super_train_label_text, super_train_label, test_size=0.6)\n",
        "super_train_dataset, super_valid_dataset = TwitterDataset(super_train_idx, super_train_label_text, super_train_label, super_preprocessor), TwitterDataset(super_valid_idx, super_valid_label_text, super_valid_label, super_preprocessor)\n",
        "super_train_loader = torch.utils.data.DataLoader(dataset = super_train_dataset,\n",
        "                                            batch_size = BATCH_SIZE,\n",
        "                                            shuffle = True,\n",
        "                                            collate_fn = super_train_dataset.collate_fn,\n",
        "                                            num_workers = 8)\n",
        "super_valid_loader = torch.utils.data.DataLoader(dataset = super_valid_dataset,\n",
        "                                            batch_size = BATCH_SIZE,\n",
        "                                            shuffle = False,\n",
        "                                            collate_fn = super_valid_dataset.collate_fn,\n",
        "                                            num_workers = 8)\n"
      ]
    },
    {
      "cell_type": "code",
      "execution_count": null,
      "metadata": {
        "id": "MTCygLn0UICt",
        "colab": {
          "base_uri": "https://localhost:8080/",
          "height": 1000
        },
        "outputId": "ba9e5f78-4d11-47b3-8a97-64206030bdc7"
      },
      "outputs": [
        {
          "metadata": {
            "tags": null
          },
          "name": "stderr",
          "output_type": "stream",
          "text": [
            "/usr/local/lib/python3.7/dist-packages/numpy/core/fromnumeric.py:3441: RuntimeWarning: Mean of empty slice.\n",
            "  out=out, **kwargs)\n",
            "/usr/local/lib/python3.7/dist-packages/numpy/core/_methods.py:189: RuntimeWarning: invalid value encountered in double_scalars\n",
            "  ret = ret.dtype.type(ret / rcount)\n"
          ]
        },
        {
          "output_type": "stream",
          "name": "stdout",
          "text": [
            "[Validation in epoch 1] loss:0.486 acc:80.101 learning rate: 1e-05\n",
            "model saved to super_model.pth\n",
            "[Validation in epoch 2] loss:0.413 acc:82.895 learning rate: 1e-05\n",
            "model saved to super_model.pth\n",
            "[Validation in epoch 3] loss:0.377 acc:84.388 learning rate: 1e-05\n",
            "model saved to super_model.pth\n",
            "[Validation in epoch 4] loss:0.353 acc:85.556 learning rate: 1e-05\n",
            "model saved to super_model.pth\n",
            "[Validation in epoch 5] loss:0.333 acc:86.483 learning rate: 1e-05\n",
            "model saved to super_model.pth\n",
            "[Validation in epoch 6] loss:0.318 acc:87.199 learning rate: 1e-05\n",
            "model saved to super_model.pth\n",
            "[Validation in epoch 7] loss:0.306 acc:87.766 learning rate: 1e-05\n",
            "model saved to super_model.pth\n",
            "[Validation in epoch 8] loss:0.299 acc:88.173 learning rate: 1e-05\n",
            "model saved to super_model.pth\n",
            "[Validation in epoch 9] loss:0.288 acc:88.662 learning rate: 1e-05\n",
            "model saved to super_model.pth\n",
            "[Validation in epoch 10] loss:0.283 acc:88.938 learning rate: 1e-05\n",
            "model saved to super_model.pth\n",
            "[Validation in epoch 11] loss:0.278 acc:89.239 learning rate: 1e-05\n",
            "model saved to super_model.pth\n",
            "[Validation in epoch 12] loss:0.274 acc:89.452 learning rate: 1e-05\n",
            "model saved to super_model.pth\n",
            "[Validation in epoch 13] loss:0.271 acc:89.628 learning rate: 1e-05\n",
            "model saved to super_model.pth\n",
            "[Validation in epoch 14] loss:0.268 acc:89.791 learning rate: 1e-05\n",
            "model saved to super_model.pth\n",
            "[Validation in epoch 15] loss:0.265 acc:89.958 learning rate: 1e-05\n",
            "model saved to super_model.pth\n",
            "[Validation in epoch 16] loss:0.263 acc:90.030 learning rate: 1e-05\n",
            "model saved to super_model.pth\n",
            "[Validation in epoch 17] loss:0.263 acc:90.064 learning rate: 1e-05\n",
            "model saved to super_model.pth\n",
            "[Validation in epoch 18] loss:0.259 acc:90.287 learning rate: 1e-05\n",
            "model saved to super_model.pth\n",
            "[Validation in epoch 19] loss:0.258 acc:90.388 learning rate: 1e-05\n",
            "model saved to super_model.pth\n",
            "[Validation in epoch 20] loss:0.256 acc:90.485 learning rate: 1e-05\n",
            "model saved to super_model.pth\n",
            "[Validation in epoch 21] loss:0.255 acc:90.571 learning rate: 1e-05\n",
            "model saved to super_model.pth\n",
            "[Validation in epoch 22] loss:0.254 acc:90.617 learning rate: 1e-05\n",
            "model saved to super_model.pth\n",
            "[Validation in epoch 23] loss:0.254 acc:90.610 learning rate: 1e-05\n",
            "[Validation in epoch 24] loss:0.254 acc:90.650 learning rate: 1e-05\n",
            "model saved to super_model.pth\n",
            "[Validation in epoch 25] loss:0.251 acc:90.812 learning rate: 1e-05\n",
            "model saved to super_model.pth\n",
            "[Validation in epoch 26] loss:0.250 acc:90.861 learning rate: 1e-05\n",
            "model saved to super_model.pth\n",
            "[Validation in epoch 27] loss:0.249 acc:90.897 learning rate: 1e-05\n",
            "model saved to super_model.pth\n",
            "[Validation in epoch 28] loss:0.249 acc:90.962 learning rate: 1e-05\n",
            "model saved to super_model.pth\n",
            "[Validation in epoch 29] loss:0.249 acc:90.909 learning rate: 1e-05\n",
            "[Validation in epoch 30] loss:0.248 acc:91.025 learning rate: 1e-05\n",
            "model saved to super_model.pth\n",
            "[Validation in epoch 31] loss:0.246 acc:91.104 learning rate: 1e-05\n",
            "model saved to super_model.pth\n",
            "[Validation in epoch 32] loss:0.248 acc:91.051 learning rate: 1e-05\n",
            "[Validation in epoch 33] loss:0.246 acc:91.133 learning rate: 1e-05\n",
            "model saved to super_model.pth\n",
            "[Validation in epoch 34] loss:0.246 acc:91.160 learning rate: 1e-05\n",
            "model saved to super_model.pth\n",
            "[Validation in epoch 35] loss:0.247 acc:91.071 learning rate: 1e-05\n",
            "[Validation in epoch 36] loss:0.246 acc:91.167 learning rate: 1e-05\n",
            "model saved to super_model.pth\n",
            "[Validation in epoch 37] loss:0.244 acc:91.268 learning rate: 1e-05\n",
            "model saved to super_model.pth\n",
            "[Validation in epoch 38] loss:0.244 acc:91.269 learning rate: 1e-05\n",
            "model saved to super_model.pth\n",
            "[Validation in epoch 39] loss:0.244 acc:91.263 learning rate: 1e-05\n",
            "[Validation in epoch 40] loss:0.244 acc:91.278 learning rate: 1e-05\n",
            "model saved to super_model.pth\n",
            "[Validation in epoch 41] loss:0.247 acc:91.087 learning rate: 1e-05\n",
            "[Validation in epoch 42] loss:0.244 acc:91.290 learning rate: 1e-05\n",
            "model saved to super_model.pth\n",
            "[Validation in epoch 43] loss:0.242 acc:91.374 learning rate: 1e-05\n",
            "model saved to super_model.pth\n",
            "[Validation in epoch 44] loss:0.242 acc:91.425 learning rate: 1e-05\n",
            "model saved to super_model.pth\n",
            "[Validation in epoch 45] loss:0.243 acc:91.327 learning rate: 1e-05\n",
            "[Validation in epoch 46] loss:0.242 acc:91.403 learning rate: 1e-05\n",
            "[Validation in epoch 47] loss:0.243 acc:91.306 learning rate: 1e-05\n",
            "[Validation in epoch 48] loss:0.241 acc:91.419 learning rate: 1e-05\n",
            "[Validation in epoch 49] loss:0.243 acc:91.382 learning rate: 1e-05\n",
            "[Validation in epoch 50] loss:0.242 acc:91.408 learning rate: 1e-05\n",
            "[Validation in epoch 51] loss:0.241 acc:91.490 learning rate: 1e-05\n",
            "model saved to super_model.pth\n",
            "[Validation in epoch 52] loss:0.241 acc:91.441 learning rate: 1e-05\n",
            "[Validation in epoch 53] loss:0.240 acc:91.506 learning rate: 1e-05\n",
            "model saved to super_model.pth\n",
            "[Validation in epoch 54] loss:0.246 acc:91.235 learning rate: 1e-05\n",
            "[Validation in epoch 55] loss:0.244 acc:91.323 learning rate: 1e-05\n",
            "[Validation in epoch 56] loss:0.242 acc:91.432 learning rate: 1e-05\n",
            "[Validation in epoch 57] loss:0.241 acc:91.480 learning rate: 1e-05\n",
            "[Validation in epoch 58] loss:0.240 acc:91.522 learning rate: 1e-05\n",
            "model saved to super_model.pth\n",
            "[Validation in epoch 59] loss:0.239 acc:91.569 learning rate: 1e-05\n",
            "model saved to super_model.pth\n",
            "[Validation in epoch 60] loss:0.241 acc:91.498 learning rate: 1e-05\n",
            "[Validation in epoch 61] loss:0.241 acc:91.441 learning rate: 1e-05\n",
            "[Validation in epoch 62] loss:0.245 acc:91.304 learning rate: 1e-05\n",
            "[Validation in epoch 63] loss:0.240 acc:91.562 learning rate: 1e-05\n",
            "[Validation in epoch 64] loss:0.241 acc:91.459 learning rate: 1e-05\n",
            "[Validation in epoch 65] loss:0.243 acc:91.395 learning rate: 1e-05\n",
            "[Validation in epoch 66] loss:0.241 acc:91.509 learning rate: 1e-05\n",
            "[Validation in epoch 67] loss:0.243 acc:91.404 learning rate: 1e-05\n",
            "[Validation in epoch 68] loss:0.245 acc:91.336 learning rate: 1e-05\n",
            "[Validation in epoch 69] loss:0.242 acc:91.450 learning rate: 1e-05\n",
            "Early stopping at Epoch: 69\n"
          ]
        },
        {
          "output_type": "display_data",
          "data": {
            "text/plain": [
              "<Figure size 432x288 with 1 Axes>"
            ],
            "image/png": "[encoded data removed]"
          },
          "metadata": {
            "needs_background": "light"
          }
        }
      ],
      "source": [
        "super_backbone = Backbone(super_preprocessor.embedding_matrix, **net_config)\n",
        "super_header = Header(**header_config)\n",
        "\n",
        "run_training(super_train_loader, super_valid_loader, super_backbone, super_header, EPOCH_NUM, lr, device, MODEL_DIR2, scheduler = None)"
      ]
    },
    {
      "cell_type": "markdown",
      "metadata": {
        "id": "4Fg6zCjgCK5K"
      },
      "source": [
        "# ***Testing***"
      ]
    },
    {
      "cell_type": "code",
      "execution_count": null,
      "metadata": {
        "id": "RfKCUNWRWbHi"
      },
      "outputs": [],
      "source": [
        "def run_testing(test_loader, backbone, header, device, output_path):\n",
        "  with open(output_path, 'w') as f:\n",
        "    backbone.eval()\n",
        "    header.eval()\n",
        "    writer = csv.writer(f)\n",
        "    writer.writerow(['id', 'label'])\n",
        "    with torch.no_grad():\n",
        "      for i, (idx_list, lengths, texts) in enumerate(test_loader):\n",
        "        lengths, inputs = lengths.to(device), texts.to(device)\n",
        "        if not backbone is None:\n",
        "          inputs = backbone(inputs)\n",
        "        soft_predicted = header(inputs, lengths)\n",
        "        hard_predicted = (soft_predicted >= 0.5).int()\n",
        "        for i, p in zip(idx_list, hard_predicted):\n",
        "          writer.writerow([str(i.item()), str(p.item())])"
      ]
    },
    {
      "cell_type": "markdown",
      "metadata": {
        "id": "VHH--3y2E_T6"
      },
      "source": [
        "# ***Pseudo Labeling Test and submit file***"
      ]
    },
    {
      "cell_type": "code",
      "execution_count": null,
      "metadata": {
        "id": "K9g9n2yjY9cv"
      },
      "outputs": [],
      "source": [
        "EXP_name = \"SuperCode\"\n",
        "pred_file = f'{EXP_name}-pred.csv'\n",
        "run_testing(test_loader, super_backbone, super_header, device, pred_file)"
      ]
    },
    {
      "cell_type": "code",
      "execution_count": null,
      "metadata": {
        "id": "XgPfqRUPZHfi",
        "colab": {
          "base_uri": "https://localhost:8080/",
          "height": 17
        },
        "outputId": "496bf6c9-00b6-4a0d-c8f6-64b3a21247ec"
      },
      "outputs": [
        {
          "output_type": "display_data",
          "data": {
            "text/plain": [
              "<IPython.core.display.Javascript object>"
            ],
            "application/javascript": [
              "\n",
              "    async function download(id, filename, size) {\n",
              "      if (!google.colab.kernel.accessAllowed) {\n",
              "        return;\n",
              "      }\n",
              "      const div = document.createElement('div');\n",
              "      const label = document.createElement('label');\n",
              "      label.textContent = `Downloading \"${filename}\": `;\n",
              "      div.appendChild(label);\n",
              "      const progress = document.createElement('progress');\n",
              "      progress.max = size;\n",
              "      div.appendChild(progress);\n",
              "      document.body.appendChild(div);\n",
              "\n",
              "      const buffers = [];\n",
              "      let downloaded = 0;\n",
              "\n",
              "      const channel = await google.colab.kernel.comms.open(id);\n",
              "      // Send a message to notify the kernel that we're ready.\n",
              "      channel.send({})\n",
              "\n",
              "      for await (const message of channel.messages) {\n",
              "        // Send a message to notify the kernel that we're ready.\n",
              "        channel.send({})\n",
              "        if (message.buffers) {\n",
              "          for (const buffer of message.buffers) {\n",
              "            buffers.push(buffer);\n",
              "            downloaded += buffer.byteLength;\n",
              "            progress.value = downloaded;\n",
              "          }\n",
              "        }\n",
              "      }\n",
              "      const blob = new Blob(buffers, {type: 'application/binary'});\n",
              "      const a = document.createElement('a');\n",
              "      a.href = window.URL.createObjectURL(blob);\n",
              "      a.download = filename;\n",
              "      div.appendChild(a);\n",
              "      a.click();\n",
              "      div.remove();\n",
              "    }\n",
              "  "
            ]
          },
          "metadata": {}
        },
        {
          "output_type": "display_data",
          "data": {
            "text/plain": [
              "<IPython.core.display.Javascript object>"
            ],
            "application/javascript": [
              "download(\"download_49bfdbf2-52d5-4864-9689-97d637473a18\", \"Pseudo_Label-pred.csv\", 6300010)"
            ]
          },
          "metadata": {}
        },
        {
          "output_type": "display_data",
          "data": {
            "text/plain": [
              "<IPython.core.display.Javascript object>"
            ],
            "application/javascript": [
              "\n",
              "    async function download(id, filename, size) {\n",
              "      if (!google.colab.kernel.accessAllowed) {\n",
              "        return;\n",
              "      }\n",
              "      const div = document.createElement('div');\n",
              "      const label = document.createElement('label');\n",
              "      label.textContent = `Downloading \"${filename}\": `;\n",
              "      div.appendChild(label);\n",
              "      const progress = document.createElement('progress');\n",
              "      progress.max = size;\n",
              "      div.appendChild(progress);\n",
              "      document.body.appendChild(div);\n",
              "\n",
              "      const buffers = [];\n",
              "      let downloaded = 0;\n",
              "\n",
              "      const channel = await google.colab.kernel.comms.open(id);\n",
              "      // Send a message to notify the kernel that we're ready.\n",
              "      channel.send({})\n",
              "\n",
              "      for await (const message of channel.messages) {\n",
              "        // Send a message to notify the kernel that we're ready.\n",
              "        channel.send({})\n",
              "        if (message.buffers) {\n",
              "          for (const buffer of message.buffers) {\n",
              "            buffers.push(buffer);\n",
              "            downloaded += buffer.byteLength;\n",
              "            progress.value = downloaded;\n",
              "          }\n",
              "        }\n",
              "      }\n",
              "      const blob = new Blob(buffers, {type: 'application/binary'});\n",
              "      const a = document.createElement('a');\n",
              "      a.href = window.URL.createObjectURL(blob);\n",
              "      a.download = filename;\n",
              "      div.appendChild(a);\n",
              "      a.click();\n",
              "      div.remove();\n",
              "    }\n",
              "  "
            ]
          },
          "metadata": {}
        },
        {
          "output_type": "display_data",
          "data": {
            "text/plain": [
              "<IPython.core.display.Javascript object>"
            ],
            "application/javascript": [
              "download(\"download_b00112a3-961e-4048-b0cc-89c219000944\", \"SuperCode-pred.csv\", 400010)"
            ]
          },
          "metadata": {}
        }
      ],
      "source": [
        "from google.colab import files\n",
        "files.download(pred_file)"
      ]
    },
    {
      "cell_type": "markdown",
      "metadata": {
        "id": "wc9KxxSMCM8L"
      },
      "source": [
        "# ***Make a submission file***\n",
        "\n",
        "# ***(Note: In principle, you don't need to modify this part, and please make sure that you follow the correct format of the produced files.)***"
      ]
    },
    {
      "cell_type": "code",
      "execution_count": null,
      "metadata": {
        "id": "_09sRVgeWbIk"
      },
      "outputs": [],
      "source": [
        "EXP_name = \"SampleCode\"\n",
        "pred_file = f'{EXP_name}-pred.csv'\n",
        "run_testing(test_loader, backbone, header, device, pred_file)"
      ]
    },
    {
      "cell_type": "code",
      "execution_count": null,
      "metadata": {
        "id": "3Z2pztd-H9N8",
        "colab": {
          "base_uri": "https://localhost:8080/",
          "height": 17
        },
        "outputId": "d3169a8b-5d10-4db1-a137-cd6981e20abe"
      },
      "outputs": [
        {
          "output_type": "display_data",
          "data": {
            "text/plain": [
              "<IPython.core.display.Javascript object>"
            ],
            "application/javascript": [
              "\n",
              "    async function download(id, filename, size) {\n",
              "      if (!google.colab.kernel.accessAllowed) {\n",
              "        return;\n",
              "      }\n",
              "      const div = document.createElement('div');\n",
              "      const label = document.createElement('label');\n",
              "      label.textContent = `Downloading \"${filename}\": `;\n",
              "      div.appendChild(label);\n",
              "      const progress = document.createElement('progress');\n",
              "      progress.max = size;\n",
              "      div.appendChild(progress);\n",
              "      document.body.appendChild(div);\n",
              "\n",
              "      const buffers = [];\n",
              "      let downloaded = 0;\n",
              "\n",
              "      const channel = await google.colab.kernel.comms.open(id);\n",
              "      // Send a message to notify the kernel that we're ready.\n",
              "      channel.send({})\n",
              "\n",
              "      for await (const message of channel.messages) {\n",
              "        // Send a message to notify the kernel that we're ready.\n",
              "        channel.send({})\n",
              "        if (message.buffers) {\n",
              "          for (const buffer of message.buffers) {\n",
              "            buffers.push(buffer);\n",
              "            downloaded += buffer.byteLength;\n",
              "            progress.value = downloaded;\n",
              "          }\n",
              "        }\n",
              "      }\n",
              "      const blob = new Blob(buffers, {type: 'application/binary'});\n",
              "      const a = document.createElement('a');\n",
              "      a.href = window.URL.createObjectURL(blob);\n",
              "      a.download = filename;\n",
              "      div.appendChild(a);\n",
              "      a.click();\n",
              "      div.remove();\n",
              "    }\n",
              "  "
            ]
          },
          "metadata": {}
        },
        {
          "output_type": "display_data",
          "data": {
            "text/plain": [
              "<IPython.core.display.Javascript object>"
            ],
            "application/javascript": [
              "download(\"download_b69acdbd-1ea5-4461-beff-91af14000c06\", \"SampleCode-pred.csv\", 400010)"
            ]
          },
          "metadata": {}
        },
        {
          "output_type": "display_data",
          "data": {
            "text/plain": [
              "<IPython.core.display.Javascript object>"
            ],
            "application/javascript": [
              "\n",
              "    async function download(id, filename, size) {\n",
              "      if (!google.colab.kernel.accessAllowed) {\n",
              "        return;\n",
              "      }\n",
              "      const div = document.createElement('div');\n",
              "      const label = document.createElement('label');\n",
              "      label.textContent = `Downloading \"${filename}\": `;\n",
              "      div.appendChild(label);\n",
              "      const progress = document.createElement('progress');\n",
              "      progress.max = size;\n",
              "      div.appendChild(progress);\n",
              "      document.body.appendChild(div);\n",
              "\n",
              "      const buffers = [];\n",
              "      let downloaded = 0;\n",
              "\n",
              "      const channel = await google.colab.kernel.comms.open(id);\n",
              "      // Send a message to notify the kernel that we're ready.\n",
              "      channel.send({})\n",
              "\n",
              "      for await (const message of channel.messages) {\n",
              "        // Send a message to notify the kernel that we're ready.\n",
              "        channel.send({})\n",
              "        if (message.buffers) {\n",
              "          for (const buffer of message.buffers) {\n",
              "            buffers.push(buffer);\n",
              "            downloaded += buffer.byteLength;\n",
              "            progress.value = downloaded;\n",
              "          }\n",
              "        }\n",
              "      }\n",
              "      const blob = new Blob(buffers, {type: 'application/binary'});\n",
              "      const a = document.createElement('a');\n",
              "      a.href = window.URL.createObjectURL(blob);\n",
              "      a.download = filename;\n",
              "      div.appendChild(a);\n",
              "      a.click();\n",
              "      div.remove();\n",
              "    }\n",
              "  "
            ]
          },
          "metadata": {}
        },
        {
          "output_type": "display_data",
          "data": {
            "text/plain": [
              "<IPython.core.display.Javascript object>"
            ],
            "application/javascript": [
              "download(\"download_e4a88f24-d431-4d78-a47f-ba4909f89a99\", \"SampleCode-pred.csv\", 400010)"
            ]
          },
          "metadata": {}
        }
      ],
      "source": [
        "from google.colab import files\n",
        "files.download(pred_file)"
      ]
    },
    {
      "cell_type": "markdown",
      "metadata": {
        "id": "tpTPFh5B6bKP"
      },
      "source": [
        "# ***Q5***"
      ]
    },
    {
      "cell_type": "code",
      "execution_count": null,
      "metadata": {
        "id": "82WWh5KY6at4",
        "colab": {
          "base_uri": "https://localhost:8080/"
        },
        "outputId": "8961e407-278c-4457-a809-45775a9bf3cb"
      },
      "outputs": [
        {
          "output_type": "stream",
          "name": "stdout",
          "text": [
            "/usr/local/lib/python3.7/dist-packages/gdown/cli.py:131: FutureWarning: Option `--id` was deprecated in version 4.3.1 and will be removed in 5.0. You don't need to pass it anymore to use a file ID.\n",
            "  category=FutureWarning,\n",
            "Downloading...\n",
            "From: https://drive.google.com/uc?id=1hW0UvoM7aU6KRSXLJlkFkDW80O1Fiopo\n",
            "To: /content/testQ51_2.csv\n",
            "100% 167/167 [00:00<00:00, 231kB/s]\n"
          ]
        }
      ],
      "source": [
        "!gdown --id \"1hW0UvoM7aU6KRSXLJlkFkDW80O1Fiopo\" --output 'testQ51_2.csv'\n",
        "testQ5_idx, testQ5_text = load_test('testQ51_2.csv')\n",
        "testQ5_dataset = TwitterDataset(testQ5_idx, testQ5_text, None, preprocessor)\n",
        "testQ5_loader = torch.utils.data.DataLoader(dataset = testQ5_dataset,\n",
        "                                            batch_size = BATCH_SIZE,\n",
        "                                            shuffle = False,\n",
        "                                            collate_fn = testQ5_dataset.collate_fn,\n",
        "                                            num_workers = 8)\n",
        "EXP_name = \"tsetQ5\"\n",
        "pred_file = f'{EXP_name}-pred.csv'\n",
        "run_testing(testQ5_loader, backbone, header, device, pred_file)"
      ]
    },
    {
      "cell_type": "markdown",
      "source": [
        "# ***model Path***"
      ],
      "metadata": {
        "id": "_3Hh5bX0g0B2"
      }
    },
    {
      "cell_type": "code",
      "source": [
        "!gdown --id \"1gGb2JHAP2pjqquxD3tKmvXxce146YVjI\" --output 'model without pseudo labeling.pth'\n",
        "!gdown --id \"1045jFPa9SoLnkrVHnKNqDUtjIiHZfzYJ\" --output 'model pseudo labeling.pth'"
      ],
      "metadata": {
        "colab": {
          "base_uri": "https://localhost:8080/"
        },
        "id": "0KXB1vcig4RI",
        "outputId": "b0ec7e84-37b0-41ee-fd8f-917ec51b9328"
      },
      "execution_count": null,
      "outputs": [
        {
          "output_type": "stream",
          "name": "stdout",
          "text": [
            "/usr/local/lib/python3.7/dist-packages/gdown/cli.py:131: FutureWarning: Option `--id` was deprecated in version 4.3.1 and will be removed in 5.0. You don't need to pass it anymore to use a file ID.\n",
            "  category=FutureWarning,\n",
            "Downloading...\n",
            "From: https://drive.google.com/uc?id=1gGb2JHAP2pjqquxD3tKmvXxce146YVjI\n",
            "To: /content/model without pseudo labeling.pth\n",
            "100% 11.7M/11.7M [00:00<00:00, 153MB/s]\n",
            "/usr/local/lib/python3.7/dist-packages/gdown/cli.py:131: FutureWarning: Option `--id` was deprecated in version 4.3.1 and will be removed in 5.0. You don't need to pass it anymore to use a file ID.\n",
            "  category=FutureWarning,\n",
            "Downloading...\n",
            "From: https://drive.google.com/uc?id=1045jFPa9SoLnkrVHnKNqDUtjIiHZfzYJ\n",
            "To: /content/model pseudo labeling.pth\n",
            "100% 11.7M/11.7M [00:00<00:00, 70.5MB/s]\n"
          ]
        }
      ]
    },
    {
      "cell_type": "markdown",
      "metadata": {
        "id": "fT2wmdsVDcX6"
      },
      "source": [
        "# Good luck for your programming assignments!\n",
        "If you have any questions, feel free to send e-mails to ntueemlta2022@gmail.com / b08202033@ntu.edu.tw. Of course, welcome to make use of the TA hours as well."
      ]
    }
  ],
  "metadata": {
    "accelerator": "GPU",
    "colab": {
      "provenance": [],
      "collapsed_sections": [
        "fT2wmdsVDcX6"
      ],
      "include_colab_link": true
    },
    "kernelspec": {
      "display_name": "Python 3",
      "language": "python",
      "name": "python3"
    },
    "language_info": {
      "codemirror_mode": {
        "name": "ipython",
        "version": 3
      },
      "file_extension": ".py",
      "mimetype": "text/x-python",
      "name": "python",
      "nbconvert_exporter": "python",
      "pygments_lexer": "ipython3",
      "version": "3.7.4"
    }
  },
  "nbformat": 4,
  "nbformat_minor": 0
}