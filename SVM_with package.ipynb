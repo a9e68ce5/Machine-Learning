{
  "cells": [
    {
      "cell_type": "markdown",
      "metadata": {
        "id": "view-in-github",
        "colab_type": "text"
      },
      "source": [
        "<a href=\"https://colab.research.google.com/github/a9e68ce5/Machine-Learning/blob/main/SVM_with%20package.ipynb\" target=\"_parent\"><img src=\"https://colab.research.google.com/assets/colab-badge.svg\" alt=\"Open In Colab\"/></a>"
      ]
    },
    {
      "cell_type": "code",
      "execution_count": null,
      "metadata": {
        "id": "q00JF9knfdhg",
        "outputId": "867821ea-64bb-4049-be64-408e23ce0bcd",
        "colab": {
          "base_uri": "https://localhost:8080/"
        }
      },
      "outputs": [
        {
          "output_type": "stream",
          "name": "stdout",
          "text": [
            "Downloading...\n",
            "From: https://drive.google.com/uc?id=1sCTQXp9kTcm8_jckqC-v_gWxIsFCcUbS\n",
            "To: /content/X_train\n",
            "100% 7.14M/7.14M [00:00<00:00, 151MB/s]\n",
            "Downloading...\n",
            "From: https://drive.google.com/uc?id=1vK24A09o5Nev5qj1qNhndFe6beTWSDRU\n",
            "To: /content/Y_train\n",
            "100% 65.1k/65.1k [00:00<00:00, 92.4MB/s]\n",
            "Downloading...\n",
            "From: https://drive.google.com/uc?id=1THvOuf_EOn6c_6TLy0Bqs23BP2NraBR2\n",
            "To: /content/X_test\n",
            "100% 3.57M/3.57M [00:00<00:00, 230MB/s]\n"
          ]
        }
      ],
      "source": [
        "!gdown 1sCTQXp9kTcm8_jckqC-v_gWxIsFCcUbS\n",
        "!gdown 1vK24A09o5Nev5qj1qNhndFe6beTWSDRU\n",
        "!gdown 1THvOuf_EOn6c_6TLy0Bqs23BP2NraBR2"
      ]
    },
    {
      "cell_type": "code",
      "execution_count": null,
      "metadata": {
        "id": "-i7a0zITdd0h"
      },
      "outputs": [],
      "source": [
        "import numpy as np\n",
        "import pandas as pd\n",
        "import csv\n",
        "from sklearn.svm import SVC\n",
        "from sklearn import svm"
      ]
    },
    {
      "cell_type": "code",
      "execution_count": null,
      "metadata": {
        "id": "14_RdKtHfu1j"
      },
      "outputs": [],
      "source": [
        "def normalize(X, mu_x=None, std_x=None):\n",
        "  #features=['age', 'fnlwgt', 'hours_per_week', 'capital_gain', 'capital_loss']\n",
        "  mu_x = X.mean()\n",
        "  std_x = X.std()\n",
        "  X = (X-mu_x)/std_x\n",
        "  return X\n",
        "\n",
        "def load_train():\n",
        "  X = pd.read_csv(\"X_train\")  # 'age', 'fnlwgt', 'hours_per_week', 'capital_gain', 'capital_loss' are coninuous, others are discrete\n",
        "  Y = pd.read_csv(\"Y_train\", header = None).values.reshape(-1)\n",
        "  X = normalize(X)\n",
        "\n",
        "  return X, Y\n",
        "\n",
        "def load_test():\n",
        "  X = pd.read_csv(\"X_test\")\n",
        "  X = normalize(X)\n",
        "  return X"
      ]
    },
    {
      "cell_type": "code",
      "execution_count": null,
      "metadata": {
        "id": "EvWtcFbzgCG4"
      },
      "outputs": [],
      "source": [
        "train_X, train_Y= load_train()\n",
        "test_X = load_test()"
      ]
    },
    {
      "cell_type": "code",
      "source": [
        "from sklearn.model_selection import train_test_split\n",
        "train_x, test_x, train_y, test_y = train_test_split(train_X, train_Y, test_size=0.3, random_state=42)"
      ],
      "metadata": {
        "id": "jw5OnSWgt1Ar"
      },
      "execution_count": null,
      "outputs": []
    },
    {
      "cell_type": "markdown",
      "source": [
        "# ***Feature Selection***"
      ],
      "metadata": {
        "id": "9YMzMMa_cAPz"
      }
    },
    {
      "cell_type": "markdown",
      "source": [
        "# ***mRMR***"
      ],
      "metadata": {
        "id": "tu_FPDJLcFC9"
      }
    },
    {
      "cell_type": "code",
      "source": [
        "pip install mrmr_selection"
      ],
      "metadata": {
        "colab": {
          "base_uri": "https://localhost:8080/"
        },
        "id": "FMzFWhoucJJl",
        "outputId": "9f5acca9-cd8a-464e-ef01-13102430ba88"
      },
      "execution_count": null,
      "outputs": [
        {
          "output_type": "stream",
          "name": "stdout",
          "text": [
            "Looking in indexes: https://pypi.org/simple, https://us-python.pkg.dev/colab-wheels/public/simple/\n",
            "Requirement already satisfied: mrmr_selection in /usr/local/lib/python3.8/dist-packages (0.2.5)\n",
            "Requirement already satisfied: scipy in /usr/local/lib/python3.8/dist-packages (from mrmr_selection) (1.7.3)\n",
            "Requirement already satisfied: tqdm in /usr/local/lib/python3.8/dist-packages (from mrmr_selection) (4.64.1)\n",
            "Requirement already satisfied: joblib in /usr/local/lib/python3.8/dist-packages (from mrmr_selection) (1.2.0)\n",
            "Requirement already satisfied: pandas>=1.0.3 in /usr/local/lib/python3.8/dist-packages (from mrmr_selection) (1.3.5)\n",
            "Requirement already satisfied: jinja2 in /usr/local/lib/python3.8/dist-packages (from mrmr_selection) (2.11.3)\n",
            "Requirement already satisfied: numpy>=1.18.1 in /usr/local/lib/python3.8/dist-packages (from mrmr_selection) (1.21.6)\n",
            "Requirement already satisfied: category-encoders in /usr/local/lib/python3.8/dist-packages (from mrmr_selection) (2.5.1.post0)\n",
            "Requirement already satisfied: sklearn in /usr/local/lib/python3.8/dist-packages (from mrmr_selection) (0.0.post1)\n",
            "Requirement already satisfied: pytz>=2017.3 in /usr/local/lib/python3.8/dist-packages (from pandas>=1.0.3->mrmr_selection) (2022.6)\n",
            "Requirement already satisfied: python-dateutil>=2.7.3 in /usr/local/lib/python3.8/dist-packages (from pandas>=1.0.3->mrmr_selection) (2.8.2)\n",
            "Requirement already satisfied: six>=1.5 in /usr/local/lib/python3.8/dist-packages (from python-dateutil>=2.7.3->pandas>=1.0.3->mrmr_selection) (1.15.0)\n",
            "Requirement already satisfied: patsy>=0.5.1 in /usr/local/lib/python3.8/dist-packages (from category-encoders->mrmr_selection) (0.5.3)\n",
            "Requirement already satisfied: scikit-learn>=0.20.0 in /usr/local/lib/python3.8/dist-packages (from category-encoders->mrmr_selection) (1.0.2)\n",
            "Requirement already satisfied: statsmodels>=0.9.0 in /usr/local/lib/python3.8/dist-packages (from category-encoders->mrmr_selection) (0.12.2)\n",
            "Requirement already satisfied: threadpoolctl>=2.0.0 in /usr/local/lib/python3.8/dist-packages (from scikit-learn>=0.20.0->category-encoders->mrmr_selection) (3.1.0)\n",
            "Requirement already satisfied: MarkupSafe>=0.23 in /usr/local/lib/python3.8/dist-packages (from jinja2->mrmr_selection) (2.0.1)\n"
          ]
        }
      ]
    },
    {
      "cell_type": "code",
      "source": [
        "y1 = np.array(train_Y)\n",
        "import mrmr\n",
        "# select top 20 features using mRMR\n",
        "from mrmr import mrmr_classif\n",
        "selected_features = mrmr_classif(X=train_X, y=y1, K=90)#60\n",
        "selected_features"
      ],
      "metadata": {
        "colab": {
          "base_uri": "https://localhost:8080/"
        },
        "id": "HuDbHsoSlLqS",
        "outputId": "c7360d8a-1694-415f-b183-a0f55f2d61f8"
      },
      "execution_count": null,
      "outputs": [
        {
          "output_type": "stream",
          "name": "stderr",
          "text": [
            "100%|██████████| 90/90 [00:20<00:00,  4.30it/s]\n"
          ]
        },
        {
          "output_type": "execute_result",
          "data": {
            "text/plain": [
              "[' Married-civ-spouse',\n",
              " ' HS-grad',\n",
              " 'capital_gain',\n",
              " ' Husband',\n",
              " ' Exec-managerial',\n",
              " 'capital_loss',\n",
              " 'hours_per_week',\n",
              " ' Never-married',\n",
              " ' Prof-specialty',\n",
              " 'age',\n",
              " ' Bachelors',\n",
              " ' Masters',\n",
              " 'sex',\n",
              " ' Prof-school',\n",
              " ' Doctorate',\n",
              " ' Not-in-family',\n",
              " ' Own-child',\n",
              " ' Self-emp-inc',\n",
              " ' Other-service',\n",
              " ' Unmarried',\n",
              " ' Wife',\n",
              " ' Federal-gov',\n",
              " ' Mexico',\n",
              " ' White',\n",
              " ' Divorced',\n",
              " ' 10th',\n",
              " ' Handlers-cleaners',\n",
              " ' 11th',\n",
              " ' Other-relative',\n",
              " '?_occupation',\n",
              " ' 9th',\n",
              " ' Machine-op-inspct',\n",
              " ' Separated',\n",
              " ' 7th-8th',\n",
              " ' Black',\n",
              " ' Adm-clerical',\n",
              " '?_workclass',\n",
              " ' 12th',\n",
              " ' Widowed',\n",
              " ' Farming-fishing',\n",
              " ' Private',\n",
              " ' Married-spouse-absent',\n",
              " ' 5th-6th',\n",
              " ' Some-college',\n",
              " ' Columbia',\n",
              " ' Priv-house-serv',\n",
              " ' Amer-Indian-Eskimo',\n",
              " ' 1st-4th',\n",
              " ' Other',\n",
              " ' Preschool',\n",
              " ' Protective-serv',\n",
              " ' Dominican-Republic',\n",
              " ' Japan',\n",
              " ' Vietnam',\n",
              " ' Iran',\n",
              " ' Tech-support',\n",
              " ' Puerto-Rico',\n",
              " ' India',\n",
              " ' El-Salvador',\n",
              " ' Local-gov',\n",
              " ' Nicaragua',\n",
              " ' Outlying-US(Guam-USVI-etc)',\n",
              " ' Guatemala',\n",
              " ' France',\n",
              " ' Peru',\n",
              " ' Germany',\n",
              " ' Without-pay',\n",
              " ' Married-AF-spouse',\n",
              " ' England',\n",
              " ' Canada',\n",
              " ' Self-emp-not-inc',\n",
              " ' Taiwan',\n",
              " ' Haiti',\n",
              " ' Jamaica',\n",
              " ' Sales',\n",
              " ' United-States',\n",
              " ' Transport-moving',\n",
              " ' Portugal',\n",
              " ' Italy',\n",
              " ' Never-worked',\n",
              " ' Honduras',\n",
              " ' Philippines',\n",
              " ' Yugoslavia',\n",
              " ' Trinadad&Tobago',\n",
              " ' Cambodia',\n",
              " ' State-gov',\n",
              " ' Laos',\n",
              " ' Ecuador',\n",
              " ' Assoc-voc',\n",
              " ' Armed-Forces']"
            ]
          },
          "metadata": {},
          "execution_count": 24
        }
      ]
    },
    {
      "cell_type": "code",
      "source": [
        "train_X1 = train_X[selected_features]\n",
        "test_X1 = test_X[selected_features]"
      ],
      "metadata": {
        "id": "D-QbRMeZc7LT"
      },
      "execution_count": null,
      "outputs": []
    },
    {
      "cell_type": "code",
      "source": [
        "train_x1 = train_x[selected_features]\n",
        "test_x1 = test_x[selected_features]"
      ],
      "metadata": {
        "id": "8SapSOFx2i-z"
      },
      "execution_count": null,
      "outputs": []
    },
    {
      "cell_type": "code",
      "execution_count": null,
      "metadata": {
        "colab": {
          "base_uri": "https://localhost:8080/"
        },
        "id": "RNTx_SOIk53U",
        "outputId": "c6b69b35-6e37-498f-bab7-a9726cf21aab"
      },
      "outputs": [
        {
          "output_type": "execute_result",
          "data": {
            "text/plain": [
              "SVC(kernel='poly', random_state=0)"
            ]
          },
          "metadata": {},
          "execution_count": 30
        }
      ],
      "source": [
        "clf = SVC(kernel='linear', random_state=0 , C=1.0)\n",
        "\n",
        "clf.fit(train_X1, train_Y)"
      ]
    },
    {
      "cell_type": "code",
      "source": [
        "accuracy = clf.score(train_X1, train_Y)\n",
        "print('訓練集: ', accuracy*100)"
      ],
      "metadata": {
        "colab": {
          "base_uri": "https://localhost:8080/"
        },
        "id": "JeBnrRvC27M4",
        "outputId": "0a10d8dd-9531-4b9b-d53f-cca4105dc8ea"
      },
      "execution_count": null,
      "outputs": [
        {
          "output_type": "stream",
          "name": "stdout",
          "text": [
            "訓練集:  85.25843800866066\n"
          ]
        }
      ]
    },
    {
      "cell_type": "code",
      "source": [
        "accuracy1 = clf.score(train_x1, train_y)\n",
        "accuracy2 = clf.score(test_x1, test_y)\n",
        "print('訓練集: ', accuracy1*100)\n",
        "print('測試集: ', accuracy2*100)"
      ],
      "metadata": {
        "colab": {
          "base_uri": "https://localhost:8080/"
        },
        "id": "4WWEmC50hQGF",
        "outputId": "9b44d59d-5ba9-48a9-f6ec-bf243dd7fea4"
      },
      "execution_count": null,
      "outputs": [
        {
          "output_type": "stream",
          "name": "stdout",
          "text": [
            "訓練集:  85.1000351000351\n",
            "測試集:  85.40280479066435\n"
          ]
        }
      ]
    },
    {
      "cell_type": "code",
      "execution_count": null,
      "metadata": {
        "id": "LS6LHG3bntKv"
      },
      "outputs": [],
      "source": [
        "results = clf.predict(test_X1)\n",
        "with open('predict.csv', 'w', newline='') as f:\n",
        "    writer = csv.writer(f)\n",
        "    writer.writerow(['id','label'])\n",
        "    for i, x in enumerate(results):\n",
        "      writer.writerow([i + 1, int(x)])"
      ]
    }
  ],
  "metadata": {
    "colab": {
      "provenance": [],
      "include_colab_link": true
    },
    "kernelspec": {
      "display_name": "Python 3",
      "name": "python3"
    },
    "language_info": {
      "name": "python"
    },
    "gpuClass": "standard"
  },
  "nbformat": 4,
  "nbformat_minor": 0
}